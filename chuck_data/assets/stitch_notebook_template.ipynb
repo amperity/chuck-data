{
 "cells": [
  {
   "cell_type": "markdown",
   "metadata": {
    "application/vnd.databricks.v1+cell": {
     "cellMetadata": {
      "byteLimit": 2048000,
      "rowLimit": 10000
     },
     "inputWidgets": {},
     "nuid": "e99c31a7-53c8-4aa1-83dc-7b9f766b9df6",
     "showTitle": false,
     "tableResultSettingsMap": {},
     "title": ""
    }
   },
   "source": [
    "# Databricks Stitch Report"
   ]
  },
  {
   "cell_type": "markdown",
   "metadata": {
    "application/vnd.databricks.v1+cell": {
     "cellMetadata": {
      "byteLimit": 2048000,
      "rowLimit": 10000
     },
     "inputWidgets": {},
     "nuid": "b1cbb184-dff5-41a4-be77-fb6819928bc6",
     "showTitle": false,
     "tableResultSettingsMap": {},
     "title": ""
    }
   },
   "source": [
    "## Intro and Configuration \n",
    "\n",
    "**Before We Get Started**\n",
    "\n",
    "Please wait for stitch to finish before running this report!\n",
    "\n",
    "**Summary**\n",
    "\n",
    "This report provides a detailed comparison of customer identity records **before and after running Identity Resolution service**. this notebook is designed to help you understand how your records were consolidated, how connections were established across systems, and how probabilistic matching augmented your identity graph. The goal is to surface how Stitch reshaped your view of unique customer profiles — increasing linkage depth, cross-source visibility, and overall profile completeness."
   ]
  },
  {
   "cell_type": "markdown",
   "metadata": {
    "application/vnd.databricks.v1+cell": {
     "cellMetadata": {
      "byteLimit": 2048000,
      "rowLimit": 10000
     },
     "inputWidgets": {},
     "nuid": "c30de6a7-0a5d-4ae4-8322-3cbf39bf23d6",
     "showTitle": false,
     "tableResultSettingsMap": {},
     "title": ""
    }
   },
   "source": [
    "## Configuration\n",
    "\n",
    "This Notebook consists of 3 Identity Resolution Reports. \n",
    "1. **Identity Resolution Global View** - analyzing how Identity Resolution impacted the global view of customer records.\n",
    "2. **Identity Resolution by Source** - output breaks down the number of records vs. the number of clusters by input source.\n",
    "3. **Identity Resolution (Overlap) Across Sources** - reports on how Stitch has associated your customer records into clusters **across sources**. \n",
    "\n",
    "These reports are designed to be automated. Cells requiring user input are highlighted below; once these are updated, you will be able to run the report.\n",
    "\n",
    "**User Inputs**\n",
    "\n",
    "There are 3 cells below that are configurable. Please review the following before you `Run all` in the notebook.\n",
    "\n",
    "**Cell 4: Set Path and Optionally Edit Source Semantic Mapping**\n",
    "\n",
    "1. Confirm that the unified_coalesced_path is correct.\n",
    "\n",
    "2. (Optional) Update the source semantic mapping. This will make the outputs in the reports more user friendly, but is not required. To edit this change the text after the `:` in Cell 4.\n",
    "\n",
    "Example: `\"original_source_name\": \"_desired_name_\"`\n",
    "\n",
    "**Cell 5: (Optional) Set PII Classification Levels**\n",
    "\n",
    "**Note:** The configurations are currently set to defaults and do not require modification. However, these settings are adjustable, and altering them will affect subsequent outputs. **Importantly, the notebook will execute successfully without changing these settings.**\n",
    "\n",
    "1. **PII sensitivity weighting**: This defines the relative importance or sensitivity of each personally identifiable information (PII) attribute. Higher values indicate attributes that contribute more toward identifying an individual.\n",
    "\n",
    "2. **PII Classification Levels**: These thresholds define how much PII is needed to categorize a customer into different identity levels, ranging from anonymous to fully known.\n",
    "\n",
    "**Cell 42: (Optional) Venn Diagram of Overlap**\n",
    "\n",
    "**Note:** This is one of the more advanced outputs we provide, giving you a visual representation of the overlap between three sources. By default, the output showcases the top three sources, however, you have the option to manually adjust this in the cell if you wish to explore overlaps with additional sources.\n",
    "\n",
    "**When you are ready, click: Run All!**\n",
    "\n",
    "Once you ave verified the above inputs, click `Run all` and review your reports!"
   ]
  },
  {
   "cell_type": "code",
   "execution_count": 0,
   "metadata": {
    "application/vnd.databricks.v1+cell": {
     "cellMetadata": {
      "byteLimit": 2048000,
      "rowLimit": 10000
     },
     "inputWidgets": {},
     "nuid": "c2f8a3e0-9ccf-47cd-810e-58ae903343c5",
     "showTitle": true,
     "tableResultSettingsMap": {},
     "title": "(User Edit) Set Path and Optionally Edit Source Semantic Mapping"
    }
   },
   "outputs": [],
   "source": [
    "# 1. Unified Coalesced Path\n",
    "\n",
    "# User Confirm this is correct #\n",
    "unified_coalesced_path = \"{UNIFIED_PATH}\"\n",
    "\n",
    "\n",
    "# 2. Source Semantic Mapping (Optional)\n",
    "# This can be really helpful to help land the \"what are we actually doing to your data question\"\n",
    "# What this does is replace all the outputs with a semantic mapping of sources you have chosen to provide this for.\n",
    "# If this is not updated the default source name will be used.\n",
    "# If you do not want to semantically map your sources leave this unchanged\n",
    "# If you created this notebook from the Chuck CLI it should have automatically populated this with the values of the datasource field in the stitch results. If not, here is an example of valid mappings:\n",
    "# {\n",
    "#    \"catalog.schema.input_table_1\": \"Friendly Name 1\",\n",
    "#    \"catalog.schema.input_table_2\": \"Second Friendly Name\",\n",
    "#    \"catalog.schema.input_table_3\" : \"Third Friendly Name\"\n",
    "# }\n",
    "\n",
    "# (Optional) USER EDIT HERE #\n",
    "source_semantic_mapping = {SOURCE_NAMES}\n",
    "\n",
    "# Turn source_semantic_mapping into a df to join on later.\n",
    "source_semantic_mapping_df = spark.createDataFrame(\n",
    "    [(k, v) for k, v in source_semantic_mapping.items()],\n",
    "    [\"source\", \"source_mapping\"]\n",
    ")\n",
    "source_semantic_mapping_df.createOrReplaceTempView(\"source_semantic_mapping_sql\")"
   ]
  },
  {
   "cell_type": "code",
   "execution_count": 0,
   "metadata": {
    "application/vnd.databricks.v1+cell": {
     "cellMetadata": {
      "byteLimit": 2048000,
      "rowLimit": 10000
     },
     "inputWidgets": {},
     "nuid": "6fcb9dc3-9426-4375-bf24-48d699ac2b7a",
     "showTitle": true,
     "tableResultSettingsMap": {},
     "title": "(User Edit Optional) Set PII Classification Levels"
    }
   },
   "outputs": [],
   "source": [
    "# 1. PII Sensitivity Weighting\n",
    "# Assign a score to each PII type, used to calculate the PII classification level.\n",
    "\n",
    "# USER EDIT HERE (Optional) #\n",
    "pii_weighting = {\n",
    "    \"given_name\": 0.5,\n",
    "    \"surname\": 0.5,\n",
    "    \"email\": 1.5,\n",
    "    \"phone\": 1.5,\n",
    "    \"address\": 1,\n",
    "    \"birthdate\": 1\n",
    "}\n",
    "\n",
    "# 2. PII Classification Levels\n",
    "# Assign anonymous, partial and known cluster PII score thresholds\n",
    "# If the score is equal to or greater than, that will be the \"known\" categorization\n",
    "# Note to leave the base threshold at 0 or else some records might not have a classification\n",
    "\n",
    "# USER EDIT HERE (Optional) #\n",
    "pii_threshold = {\n",
    "    \"0. unknown\": 0,\n",
    "    \"1. anonymous\": 1.5,\n",
    "    \"2. partial\": 2.5,\n",
    "    \"3. known\": 3.5\n",
    "}"
   ]
  },
  {
   "cell_type": "markdown",
   "metadata": {
    "application/vnd.databricks.v1+cell": {
     "cellMetadata": {
      "byteLimit": 2048000,
      "rowLimit": 10000
     },
     "inputWidgets": {},
     "nuid": "47593a5c-c1a7-4d43-a85c-2addf8a4b9a8",
     "showTitle": false,
     "tableResultSettingsMap": {},
     "title": ""
    }
   },
   "source": [
    "### Create Functions To Power Dynamic SQL"
   ]
  },
  {
   "cell_type": "code",
   "execution_count": 0,
   "metadata": {
    "application/vnd.databricks.v1+cell": {
     "cellMetadata": {
      "byteLimit": 2048000,
      "rowLimit": 10000
     },
     "inputWidgets": {},
     "nuid": "cabfacbc-0867-4ea3-a0e7-11634be1a724",
     "showTitle": true,
     "tableResultSettingsMap": {},
     "title": "Dynamic Function: PII Scoring"
    },
    "jupyter": {
     "source_hidden": true
    }
   },
   "outputs": [],
   "source": [
    "# A function to build the SQL formula for PII score based on the weighted PII scores from the input\n",
    "\n",
    "def build_pii_score_new_sql(pii_scoring, score_column_name=\"row_pii_score\"):\n",
    "    \"\"\"\n",
    "    Builds a SQL formula to calculate PII score.\n",
    "    Inputs:\n",
    "        column_mapping: pii_type → actual_column_name\n",
    "        pii_scoring: pii_type → weight\n",
    "    Returns:\n",
    "        SQL CASE-based expression: (CASE WHEN col IS NOT NULL THEN weight ...) AS row_pii_score\n",
    "    \"\"\"\n",
    "    clauses = []\n",
    "\n",
    "    for col_name, weight in pii_scoring.items():\n",
    "        clauses.append(f\"CASE WHEN {col_name} IS NOT NULL THEN {weight} ELSE 0 END\")\n",
    "\n",
    "    if not clauses:\n",
    "        return f\"0 AS {score_column_name}\"\n",
    "\n",
    "    full_expr = \" +\\n  \".join(clauses)\n",
    "    return f\"(\\n  {full_expr}\\n) AS {score_column_name}\""
   ]
  },
  {
   "cell_type": "code",
   "execution_count": 0,
   "metadata": {
    "application/vnd.databricks.v1+cell": {
     "cellMetadata": {
      "byteLimit": 2048000,
      "rowLimit": 10000
     },
     "inputWidgets": {},
     "nuid": "148ca334-775d-4ac3-bd26-c6c5397989b3",
     "showTitle": true,
     "tableResultSettingsMap": {},
     "title": "Dynamic Function: PII Classification Level"
    },
    "jupyter": {
     "source_hidden": true
    }
   },
   "outputs": [],
   "source": [
    "# This function creates case statements based on the PII thresholds entered in step 1.\n",
    "\n",
    "def build_case_from_thresholds(score_column, column_name, thresholds):\n",
    "    # Sort from highest to lowest to catch top thresholds first\n",
    "    sorted_thresholds = sorted(thresholds.items(), key=lambda x: x[1], reverse=True)\n",
    "    case_lines = [f\"WHEN {score_column} >= {v} THEN '{k}'\" for k, v in sorted_thresholds]\n",
    "    #return f\"CASE\\n  \" + \"\\n  \".join(case_lines) + \"\\nEND As \" + column_name\n",
    "    return f\"CASE\\n  {chr(10).join(case_lines)}\\nEND AS {column_name}\"\n",
    "\n",
    "sql_expr = build_case_from_thresholds(\"pii_score\", \"column_name\", pii_threshold)"
   ]
  },
  {
   "cell_type": "markdown",
   "metadata": {
    "application/vnd.databricks.v1+cell": {
     "cellMetadata": {
      "byteLimit": 2048000,
      "rowLimit": 10000
     },
     "inputWidgets": {},
     "nuid": "9b1bd472-fb17-4805-8b02-c1bae160ac93",
     "showTitle": false,
     "tableResultSettingsMap": {},
     "title": ""
    }
   },
   "source": [
    "### Data assets to power visuals\n",
    "In this section, we create the data assets required to conduct PII completeness analysis using the inputs from section 1.\""
   ]
  },
  {
   "cell_type": "code",
   "execution_count": 0,
   "metadata": {
    "application/vnd.databricks.v1+cell": {
     "cellMetadata": {
      "byteLimit": 2048000,
      "rowLimit": 10000
     },
     "inputWidgets": {},
     "nuid": "d95feb54-4931-4cc6-813a-c7e2851bf1de",
     "showTitle": true,
     "tableResultSettingsMap": {},
     "title": "Create a View of All Records Mapped to Cluster and Append the Source Semantic Mapping"
    },
    "jupyter": {
     "source_hidden": true
    }
   },
   "outputs": [],
   "source": [
    "# In this step, create a view of unified coalesced (this is the raw table with all row level PII as well as the mapped cluster from ID res)\n",
    "# Note that we left join the source semantic mapping here so that if it exists the mapping will be updated here.\n",
    "\n",
    "sql_template = \"\"\"\n",
    "SELECT Amperity_ID\n",
    "         , coalesce(source_mapping.source_mapping, uc.datasource) as source\n",
    "         , given_name, surname, email, phone, address, birthdate\n",
    "\n",
    "FROM {unified_coalesced} as uc\n",
    "Left Join source_semantic_mapping_sql as source_mapping\n",
    "on uc.datasource = source_mapping.source\n",
    "\"\"\"\n",
    "\n",
    "sql_query = sql_template.format(unified_coalesced=unified_coalesced_path)\n",
    "spark.sql(sql_query).createOrReplaceTempView(\"unified_coalesced_sql\")"
   ]
  },
  {
   "cell_type": "code",
   "execution_count": 0,
   "metadata": {
    "application/vnd.databricks.v1+cell": {
     "cellMetadata": {
      "byteLimit": 2048000,
      "rowLimit": 10000
     },
     "inputWidgets": {},
     "nuid": "57bfeb54-4454-4fc1-aefe-09e9389281b8",
     "showTitle": true,
     "tableResultSettingsMap": {},
     "title": "Create Data Asset To Power Unknown to Known Analysis"
    },
    "jupyter": {
     "source_hidden": true
    }
   },
   "outputs": [],
   "source": [
    "record_level_pii_score_expr = build_pii_score_new_sql(pii_weighting, \"record_pii_score\")\n",
    "\n",
    "sql_template = f\"\"\"\n",
    "SELECT *,\n",
    "  {record_level_pii_score_expr}\n",
    "\n",
    "FROM unified_coalesced_sql\n",
    "\"\"\"\n",
    "\n",
    "spark.sql(sql_template).createOrReplaceTempView(\"pii_query\")"
   ]
  },
  {
   "cell_type": "code",
   "execution_count": 0,
   "metadata": {
    "application/vnd.databricks.v1+cell": {
     "cellMetadata": {
      "byteLimit": 2048000,
      "implicitDf": true,
      "rowLimit": 10000
     },
     "inputWidgets": {},
     "nuid": "a2d28c8a-46ed-43e9-9c26-840210d466ef",
     "showTitle": true,
     "tableResultSettingsMap": {},
     "title": "Calculate the PII score at the Amp, Amp+Source Level"
    },
    "jupyter": {
     "source_hidden": true
    }
   },
   "outputs": [],
   "source": [
    "source_level_pii_score = build_pii_score_new_sql(pii_weighting, \"source_pii_score\")\n",
    "cluster_level_pii_score = build_pii_score_new_sql(pii_weighting, \"cluster_pii_score\")\n",
    "\n",
    "sql_template = f\"\"\"\n",
    "\n",
    "-- 1. Get the PII score at the source level (combine PII for every record in the cluster for each source)\n",
    "With Cluster_and_Source_Aggregate as (\n",
    "  Select Amperity_ID, Source\n",
    "         , max(given_name) as given_name, max(surname) as surname, max(email) as email, max(phone) as phone, max(address) as address, max(birthdate) as birthdate\n",
    "  from pii_query\n",
    "  Group by 1, 2\n",
    ")\n",
    ", cluster_and_source_score as (\n",
    "  Select Amperity_ID, Source, {source_level_pii_score}\n",
    "  From Cluster_and_Source_Aggregate\n",
    ")\n",
    "-- 2. Get the PII score at the Amp (global) level\n",
    ", cluster_aggregate as (\n",
    "  Select Amperity_ID\n",
    "         , max(given_name) as given_name, max(surname) as surname, max(email) as email, max(phone) as phone, max(address) as address, max(birthdate) as birthdate\n",
    "         , max(record_pii_score) as max_record_pii_score\n",
    "  from pii_query\n",
    "  Group by 1\n",
    ")\n",
    ", cluster_score as (\n",
    "  Select Amperity_ID, max_record_pii_score, {cluster_level_pii_score}\n",
    "  From cluster_aggregate\n",
    ")\n",
    ", final_cte as (\n",
    "  -- Create a final output at the row level to understand which \n",
    "  Select p.record_pii_score, cass.source_pii_score, cs.cluster_pii_score, max_record_pii_score, p.*\n",
    "  from pii_query as p\n",
    "  join cluster_and_source_Score as cass\n",
    "  on p.amperity_ID = cass.amperity_ID and p.source = cass.source\n",
    "  Join cluster_score as cs\n",
    "  on p.amperity_id = cs.amperity_ID\n",
    "  Where 1=1\n",
    "  order by 5\n",
    ")\n",
    "Select * From final_cte order by amperity_ID\n",
    "\"\"\"\n",
    "#print(sql_template)\n",
    "spark.sql(sql_template).createOrReplaceTempView(\"pii_query_sql\")"
   ]
  },
  {
   "cell_type": "code",
   "execution_count": 0,
   "metadata": {
    "application/vnd.databricks.v1+cell": {
     "cellMetadata": {
      "byteLimit": 2048000,
      "rowLimit": 10000
     },
     "inputWidgets": {},
     "nuid": "b915e4cc-99a2-4520-b06f-0fd4ee1a8658",
     "showTitle": false,
     "tableResultSettingsMap": {},
     "title": "Create the final view using the full PII view"
    },
    "jupyter": {
     "source_hidden": true
    }
   },
   "outputs": [],
   "source": [
    "# First generate the 3 levels of \"known unknown\"\n",
    "row_pii_known = build_case_from_thresholds(\"record_pii_score\", \"row_known_unknown\", pii_threshold)\n",
    "source_pii_known = build_case_from_thresholds(\"source_pii_score\", \"source_known_unknown\", pii_threshold)\n",
    "cluster_pii_known = build_case_from_thresholds(\"cluster_pii_score\", \"amp_known_unknown\", pii_threshold)\n",
    "max_record_pii_known = build_case_from_thresholds(\"max_record_pii_score\", \"max_record_known_unknown\", pii_threshold)\n",
    "\n",
    "final_query = f\"\"\"\n",
    "    Select Amperity_ID, Source\n",
    "           , record_pii_score\n",
    "           , {row_pii_known}\n",
    "           , source_pii_score\n",
    "           , {source_pii_known}\n",
    "           , cluster_pii_score\n",
    "           , {cluster_pii_known}\n",
    "           , max_record_pii_score\n",
    "           , {max_record_pii_known}\n",
    "    From pii_query_sql\n",
    "\"\"\"\n",
    "\n",
    "#print(final_query)\n",
    "spark.sql(final_query).createOrReplaceTempView(\"final_View2_sql\")"
   ]
  },
  {
   "cell_type": "markdown",
   "metadata": {
    "application/vnd.databricks.v1+cell": {
     "cellMetadata": {
      "byteLimit": 2048000,
      "rowLimit": 10000
     },
     "inputWidgets": {},
     "nuid": "029eb690-0ef3-45be-9540-0ef0846cb020",
     "showTitle": false,
     "tableResultSettingsMap": {},
     "title": ""
    }
   },
   "source": [
    "## VOI Report 1: ID-Res Global View\n",
    "The below reports show how Identity Resolution with Stitch impacts the global view of customer records."
   ]
  },
  {
   "cell_type": "markdown",
   "metadata": {
    "application/vnd.databricks.v1+cell": {
     "cellMetadata": {
      "byteLimit": 2048000,
      "rowLimit": 10000
     },
     "inputWidgets": {},
     "nuid": "92e74b10-0820-46de-b615-274f467fdeb5",
     "showTitle": false,
     "tableResultSettingsMap": {},
     "title": ""
    }
   },
   "source": [
    "**Source Records vs Stitched Clusters**\n",
    "\n",
    "The below results show the comparison between the number of records pre-identity resolution and the number of clusters (unified profiles) post-identity resolution."
   ]
  },
  {
   "cell_type": "code",
   "execution_count": 0,
   "metadata": {
    "application/vnd.databricks.v1+cell": {
     "cellMetadata": {
      "byteLimit": 2048000,
      "implicitDf": true,
      "rowLimit": 10000
     },
     "inputWidgets": {},
     "nuid": "4c4e894f-2787-40f6-bcc0-906f10d52498",
     "showTitle": true,
     "tableResultSettingsMap": {},
     "title": "1. Records vs. Clusters Pre and Post ID-Res"
    }
   },
   "outputs": [
    {
     "output_type": "display_data",
     "data": {
      "text/plain": [
       "Databricks visualization. Run in Databricks to view."
      ]
     },
     "metadata": {
      "application/vnd.databricks.v1.subcommand+json": {
       "baseErrorDetails": null,
       "bindings": {},
       "collapsed": false,
       "command": "%sql WITH q AS (Select count(*) as source_ids, count(distinct Amperity_ID) as amp_ids\nFrom unified_coalesced_sql) SELECT SUM(`source_ids`) `column_4b7ff3b6147`,SUM(`amp_ids`) `column_4b7ff3b6163` FROM q GROUP BY GROUPING SETS (())",
       "commandTitle": "# of Clusters vs. Original Record Count",
       "commandType": "auto",
       "commandVersion": 0,
       "commentThread": [],
       "commentsVisible": false,
       "contentSha256Hex": null,
       "customPlotOptions": {
        "redashChart": [
         {
          "key": "type",
          "value": "CHART"
         },
         {
          "key": "options",
          "value": {
           "alignYAxesAtZero": true,
           "coefficient": 1,
           "columnConfigurationMap": {
            "y": [
             {
              "column": "source_ids",
              "id": "column_4b7ff3b6147",
              "transform": "SUM"
             },
             {
              "column": "amp_ids",
              "id": "column_4b7ff3b6163",
              "transform": "SUM"
             }
            ]
           },
           "dateTimeFormat": "DD/MM/YYYY HH:mm",
           "direction": {
            "type": "counterclockwise"
           },
           "error_y": {
            "type": "data",
            "visible": true
           },
           "globalSeriesType": "column",
           "isAggregationOn": true,
           "legend": {
            "traceorder": "normal"
           },
           "missingValuesAsZero": true,
           "numberFormat": "0,0.[00000]",
           "percentFormat": "0[.]00%",
           "series": {
            "error_y": {
             "type": "data",
             "visible": true
            },
            "stacking": null
           },
           "seriesOptions": {
            "column_4b7ff3b6144": {
             "name": "Clusters",
             "type": "column",
             "yAxis": 0
            },
            "column_4b7ff3b6147": {
             "color": "#8BCAE7",
             "name": "Source Records",
             "type": "column",
             "yAxis": 0
            },
            "column_4b7ff3b6163": {
             "color": "#077A9D",
             "name": "Clusters",
             "type": "column",
             "yAxis": 0
            }
           },
           "showDataLabels": true,
           "sizemode": "diameter",
           "sortX": true,
           "sortY": true,
           "swappedAxes": true,
           "textFormat": "",
           "useAggregationsUi": true,
           "valuesOptions": {},
           "version": 2,
           "xAxis": {
            "labels": {
             "enabled": true
            },
            "type": "-"
           },
           "yAxis": [
            {
             "title": {
              "text": "Count of Records"
             },
             "type": "-"
            },
            {
             "opposite": true,
             "type": "-"
            }
           ]
          }
         }
        ]
       },
       "datasetPreviewNameToCmdIdMap": {},
       "diffDeletes": [],
       "diffInserts": [],
       "displayType": "redashChart",
       "error": null,
       "errorDetails": null,
       "errorSummary": null,
       "errorTraceType": null,
       "finishTime": 0,
       "globalVars": {},
       "guid": "",
       "height": "auto",
       "hideCommandCode": false,
       "hideCommandResult": false,
       "iPythonMetadata": null,
       "inputWidgets": {},
       "isLockedInExamMode": false,
       "latestUser": "a user",
       "latestUserId": null,
       "listResultMetadata": null,
       "metadata": {
        "byteLimit": 2048000,
        "implicitDf": true,
        "rowLimit": 10000
       },
       "nuid": "593fa0d3-e1fc-43a4-aa1b-d054a597bf35",
       "origId": 0,
       "parentHierarchy": [],
       "pivotAggregation": null,
       "pivotColumns": null,
       "position": -1.0,
       "resultDbfsErrorMessage": null,
       "resultDbfsStatus": "INLINED_IN_TREE",
       "results": null,
       "showCommandTitle": false,
       "startTime": 0,
       "state": "finished",
       "streamStates": {},
       "subcommandOptions": {
        "queryPlan": {
         "groups": [],
         "selects": [
          {
           "alias": "column_4b7ff3b6147",
           "args": [
            {
             "column": "source_ids",
             "type": "column"
            }
           ],
           "function": "SUM",
           "type": "function"
          },
          {
           "alias": "column_4b7ff3b6163",
           "args": [
            {
             "column": "amp_ids",
             "type": "column"
            }
           ],
           "function": "SUM",
           "type": "function"
          }
         ]
        }
       },
       "submitTime": 0,
       "subtype": "tableResultSubCmd.visualization",
       "tableResultIndex": 0,
       "tableResultSettingsMap": {},
       "useConsistentColors": false,
       "version": "CommandV1",
       "width": "auto",
       "workflows": [],
       "xColumns": null,
       "yColumns": null
      }
     },
     "output_type": "display_data"
    },
    {
     "output_type": "display_data",
     "data": {
      "text/html": [
       "<style scoped>\n",
       "  .table-result-container {\n",
       "    max-height: 300px;\n",
       "    overflow: auto;\n",
       "  }\n",
       "  table, th, td {\n",
       "    border: 1px solid black;\n",
       "    border-collapse: collapse;\n",
       "  }\n",
       "  th, td {\n",
       "    padding: 5px;\n",
       "  }\n",
       "  th {\n",
       "    text-align: left;\n",
       "  }\n",
       "</style><div class='table-result-container'><table class='table-result'><thead style='background-color: white'><tr><th>source_ids</th><th>amp_ids</th></tr></thead><tbody><tr><td>139228651</td><td>79708992</td></tr></tbody></table></div>"
      ]
     },
     "metadata": {
      "application/vnd.databricks.v1+output": {
       "addedWidgets": {},
       "aggData": [],
       "aggError": "",
       "aggOverflow": false,
       "aggSchema": [],
       "aggSeriesLimitReached": false,
       "aggType": "",
       "arguments": {},
       "columnCustomDisplayInfos": {},
       "data": [
        [
         139228651,
         79708992
        ]
       ],
       "datasetInfos": [
        {
         "name": "_sqldf",
         "schema": {
          "fields": [
           {
            "metadata": {},
            "name": "source_ids",
            "nullable": false,
            "type": "long"
           },
           {
            "metadata": {},
            "name": "amp_ids",
            "nullable": false,
            "type": "long"
           }
          ],
          "type": "struct"
         },
         "tableIdentifier": null,
         "typeStr": "pyspark.sql.connect.dataframe.DataFrame"
        }
       ],
       "dbfsResultPath": null,
       "isJsonSchema": true,
       "metadata": {
        "createTempViewForImplicitDf": true,
        "dataframeName": "_sqldf",
        "executionCount": 10
       },
       "overflow": false,
       "plotOptions": {
        "customPlotOptions": {},
        "displayType": "table",
        "pivotAggregation": null,
        "pivotColumns": null,
        "xColumns": null,
        "yColumns": null
       },
       "removedWidgets": [],
       "schema": [
        {
         "metadata": "{}",
         "name": "source_ids",
         "type": "\"long\""
        },
        {
         "metadata": "{}",
         "name": "amp_ids",
         "type": "\"long\""
        }
       ],
       "type": "table"
      }
     },
     "output_type": "display_data"
    }
   ],
   "source": [
    "%sql\n",
    "Select count(*) as source_ids, count(distinct Amperity_ID) as amp_ids\n",
    "From unified_coalesced_sql"
   ]
  },
  {
   "cell_type": "markdown",
   "metadata": {
    "application/vnd.databricks.v1+cell": {
     "cellMetadata": {
      "byteLimit": 2048000,
      "rowLimit": 10000
     },
     "inputWidgets": {},
     "nuid": "f6c855b9-453f-4f13-b455-5fddaba38647",
     "showTitle": false,
     "tableResultSettingsMap": {},
     "title": ""
    }
   },
   "source": [
    "**Global De-Dupe Rate**\n",
    "\n",
    "The following output calculates the decrease in clusters compared to the original number of records. This metric is referred to as the de-duplication rate.\n",
    "\n",
    "Here we calculate the global de-dupe rate as:\n",
    "\n",
    "`1 - (Clusters post-ID res / Records pre-ID res)\n",
    "`\n"
   ]
  },
  {
   "cell_type": "code",
   "execution_count": 0,
   "metadata": {
    "application/vnd.databricks.v1+cell": {
     "cellMetadata": {
      "byteLimit": 2048000,
      "implicitDf": true,
      "rowLimit": 10000
     },
     "inputWidgets": {},
     "nuid": "966974d9-7c1f-4dd3-ae46-91fc68d389be",
     "showTitle": true,
     "tableResultSettingsMap": {},
     "title": "2. Global De-Dupe Rate"
    }
   },
   "outputs": [
    {
     "output_type": "display_data",
     "data": {
      "text/html": [
       "<style scoped>\n",
       "  .table-result-container {\n",
       "    max-height: 300px;\n",
       "    overflow: auto;\n",
       "  }\n",
       "  table, th, td {\n",
       "    border: 1px solid black;\n",
       "    border-collapse: collapse;\n",
       "  }\n",
       "  th, td {\n",
       "    padding: 5px;\n",
       "  }\n",
       "  th {\n",
       "    text-align: left;\n",
       "  }\n",
       "</style><div class='table-result-container'><table class='table-result'><thead style='background-color: white'><tr><th>record_cnt</th><th>cluster_cnt</th><th>de_dupe_rate</th></tr></thead><tbody><tr><td>139228651</td><td>79708992</td><td>0.427495767376213</td></tr></tbody></table></div>"
      ]
     },
     "metadata": {
      "application/vnd.databricks.v1+output": {
       "addedWidgets": {},
       "aggData": [],
       "aggError": "",
       "aggOverflow": false,
       "aggSchema": [],
       "aggSeriesLimitReached": false,
       "aggType": "",
       "arguments": {},
       "columnCustomDisplayInfos": {},
       "data": [
        [
         139228651,
         79708992,
         "0.427495767376213"
        ]
       ],
       "datasetInfos": [
        {
         "name": "_sqldf",
         "schema": {
          "fields": [
           {
            "metadata": {},
            "name": "record_cnt",
            "nullable": false,
            "type": "long"
           },
           {
            "metadata": {},
            "name": "cluster_cnt",
            "nullable": false,
            "type": "long"
           },
           {
            "metadata": {},
            "name": "de_dupe_rate",
            "nullable": true,
            "type": "decimal(38,15)"
           }
          ],
          "type": "struct"
         },
         "tableIdentifier": null,
         "typeStr": "pyspark.sql.connect.dataframe.DataFrame"
        }
       ],
       "dbfsResultPath": null,
       "isJsonSchema": true,
       "metadata": {
        "createTempViewForImplicitDf": true,
        "dataframeName": "_sqldf",
        "executionCount": 11
       },
       "overflow": false,
       "plotOptions": {
        "customPlotOptions": {},
        "displayType": "table",
        "pivotAggregation": null,
        "pivotColumns": null,
        "xColumns": null,
        "yColumns": null
       },
       "removedWidgets": [],
       "schema": [
        {
         "metadata": "{}",
         "name": "record_cnt",
         "type": "\"long\""
        },
        {
         "metadata": "{}",
         "name": "cluster_cnt",
         "type": "\"long\""
        },
        {
         "metadata": "{}",
         "name": "de_dupe_rate",
         "type": "\"decimal(38,15)\""
        }
       ],
       "type": "table"
      }
     },
     "output_type": "display_data"
    }
   ],
   "source": [
    "%sql\n",
    "Select count(*) as record_cnt\n",
    "         , count(distinct Amperity_ID) as cluster_cnt\n",
    "         , 1 - 1.0 * count(distinct Amperity_ID) / count(*) as de_dupe_rate\n",
    "  From unified_coalesced_sql"
   ]
  },
  {
   "cell_type": "markdown",
   "metadata": {
    "application/vnd.databricks.v1+cell": {
     "cellMetadata": {
      "byteLimit": 2048000,
      "rowLimit": 10000
     },
     "inputWidgets": {},
     "nuid": "160dcef0-7987-453c-b4d1-c2414d0aae18",
     "showTitle": false,
     "tableResultSettingsMap": {},
     "title": ""
    }
   },
   "source": [
    "**Improvement in PII Classification**\n",
    "\n",
    "The below result illustrates the enhancement in PII classification for records due to Identity Resolution, where each cluster is more clearly identified and contains additional PII. \n",
    "\n",
    "Identity Resolution improves PII classification by recognizing, organizing, and defining PII elements associated with individual identities across a cluster to achieve a more comprehensive and well-classified understanding of the customer.\n",
    "\n",
    "_These thresholds can be adjusted above in Cell 5._"
   ]
  },
  {
   "cell_type": "code",
   "execution_count": 0,
   "metadata": {
    "application/vnd.databricks.v1+cell": {
     "cellMetadata": {
      "byteLimit": 2048000,
      "implicitDf": true,
      "rowLimit": 10000
     },
     "inputWidgets": {},
     "nuid": "68e4e6ed-bacb-406d-b155-fe2da5ad897c",
     "showTitle": true,
     "tableResultSettingsMap": {},
     "title": "2. Improvement in PII Classification"
    },
    "jupyter": {
     "source_hidden": true
    }
   },
   "outputs": [
    {
     "output_type": "display_data",
     "data": {
      "text/plain": [
       "Databricks visualization. Run in Databricks to view."
      ]
     },
     "metadata": {
      "application/vnd.databricks.v1.subcommand+json": {
       "baseErrorDetails": null,
       "bindings": {},
       "collapsed": false,
       "command": "%sql WITH q AS (Select coalesce(row_known_unknown, amp_known_unknown) as pii_classification\n       , format_number(before_cnt, 0) as pre_id_res_record_cnt\n       , format_number(after_cnt, 0) as post_id_res_record_cnt\n       , concat(round(before_cnt * 100.0 / SUM(before_cnt) OVER (), 1), '%') AS Perc_pre_ID_Res\n       , concat(round(after_cnt * 100.0 / SUM(after_cnt) OVER (), 1), '%') AS perc_post_id_res\n       , round(before_cnt * 100.0 / SUM(before_cnt) OVER (), 1) as Perc_pre_ID_Res_old\n       , round(after_cnt * 100.0 / SUM(before_cnt) OVER (), 1) as perc_post_id_res_old\n       , before_cnt\n       , after_cnt\nFrom (Select row_known_unknown, Count(*) as before_cnt from final_View2_sql Group by 1) as before\nFull Join (Select amp_known_unknown, Count(*) as after_cnt from final_View2_sql Group by 1) as after\non before.row_known_unknown = after.amp_known_unknown\norder by 1) SELECT `pii_classification`,SUM(`before_cnt`) `column_4b7ff3b6151`,SUM(`after_cnt`) `column_4b7ff3b6154` FROM q GROUP BY `pii_classification`",
       "commandTitle": "Improvement in Record Level PII Classification",
       "commandType": "auto",
       "commandVersion": 0,
       "commentThread": [],
       "commentsVisible": false,
       "contentSha256Hex": null,
       "customPlotOptions": {
        "redashChart": [
         {
          "key": "type",
          "value": "CHART"
         },
         {
          "key": "options",
          "value": {
           "alignYAxesAtZero": true,
           "coefficient": 1,
           "columnConfigurationMap": {
            "x": {
             "column": "pii_classification",
             "id": "column_4b7ff3b6149"
            },
            "y": [
             {
              "column": "before_cnt",
              "id": "column_4b7ff3b6151",
              "transform": "SUM"
             },
             {
              "column": "after_cnt",
              "id": "column_4b7ff3b6154",
              "transform": "SUM"
             }
            ]
           },
           "dateTimeFormat": "DD/MM/YYYY HH:mm",
           "direction": {
            "type": "counterclockwise"
           },
           "error_y": {
            "type": "data",
            "visible": true
           },
           "globalSeriesType": "column",
           "isAggregationOn": true,
           "legend": {
            "traceorder": "normal"
           },
           "missingValuesAsZero": true,
           "numberFormat": "0,0.[00000]",
           "percentFormat": "0[.]00%",
           "series": {
            "error_y": {
             "type": "data",
             "visible": true
            },
            "stacking": null
           },
           "seriesOptions": {
            "column_4b7ff3b6151": {
             "color": "#8BCAE7",
             "name": "Pre ID-Res",
             "type": "column",
             "yAxis": 0
            },
            "column_4b7ff3b6154": {
             "color": "#077A9D",
             "name": "Post ID-Res",
             "type": "column",
             "yAxis": 0
            }
           },
           "showDataLabels": true,
           "sizemode": "diameter",
           "sortX": true,
           "sortY": true,
           "swappedAxes": false,
           "textFormat": "",
           "useAggregationsUi": true,
           "valuesOptions": {},
           "version": 2,
           "xAxis": {
            "labels": {
             "enabled": true
            },
            "title": {
             "text": "PII Classification Level"
            },
            "type": "-"
           },
           "yAxis": [
            {
             "title": {
              "text": "Record Count"
             },
             "type": "-"
            },
            {
             "opposite": true,
             "type": "-"
            }
           ]
          }
         }
        ]
       },
       "datasetPreviewNameToCmdIdMap": {},
       "diffDeletes": [],
       "diffInserts": [],
       "displayType": "redashChart",
       "error": null,
       "errorDetails": null,
       "errorSummary": null,
       "errorTraceType": null,
       "finishTime": 0,
       "globalVars": {},
       "guid": "",
       "height": "auto",
       "hideCommandCode": false,
       "hideCommandResult": false,
       "iPythonMetadata": null,
       "inputWidgets": {},
       "isLockedInExamMode": false,
       "latestUser": "a user",
       "latestUserId": null,
       "listResultMetadata": null,
       "metadata": {
        "byteLimit": 2048000,
        "implicitDf": true,
        "rowLimit": 10000
       },
       "nuid": "fb2cd918-fbe9-46b5-bbad-4692c3db4abd",
       "origId": 0,
       "parentHierarchy": [],
       "pivotAggregation": null,
       "pivotColumns": null,
       "position": -1.0,
       "resultDbfsErrorMessage": null,
       "resultDbfsStatus": "INLINED_IN_TREE",
       "results": null,
       "showCommandTitle": false,
       "startTime": 0,
       "state": "finished",
       "streamStates": {},
       "subcommandOptions": {
        "queryPlan": {
         "groups": [
          {
           "column": "pii_classification",
           "type": "column"
          }
         ],
         "selects": [
          {
           "column": "pii_classification",
           "type": "column"
          },
          {
           "alias": "column_4b7ff3b6151",
           "args": [
            {
             "column": "before_cnt",
             "type": "column"
            }
           ],
           "function": "SUM",
           "type": "function"
          },
          {
           "alias": "column_4b7ff3b6154",
           "args": [
            {
             "column": "after_cnt",
             "type": "column"
            }
           ],
           "function": "SUM",
           "type": "function"
          }
         ]
        }
       },
       "submitTime": 0,
       "subtype": "tableResultSubCmd.visualization",
       "tableResultIndex": 0,
       "tableResultSettingsMap": {},
       "useConsistentColors": false,
       "version": "CommandV1",
       "width": "auto",
       "workflows": [],
       "xColumns": null,
       "yColumns": null
      }
     },
     "output_type": "display_data"
    },
    {
     "output_type": "display_data",
     "data": {
      "text/html": [
       "<style scoped>\n",
       "  .table-result-container {\n",
       "    max-height: 300px;\n",
       "    overflow: auto;\n",
       "  }\n",
       "  table, th, td {\n",
       "    border: 1px solid black;\n",
       "    border-collapse: collapse;\n",
       "  }\n",
       "  th, td {\n",
       "    padding: 5px;\n",
       "  }\n",
       "  th {\n",
       "    text-align: left;\n",
       "  }\n",
       "</style><div class='table-result-container'><table class='table-result'><thead style='background-color: white'><tr><th>pii_classification</th><th>pre_id_res_record_cnt</th><th>post_id_res_record_cnt</th><th>Perc_pre_ID_Res</th><th>perc_post_id_res</th><th>Perc_pre_ID_Res_old</th><th>perc_post_id_res_old</th><th>before_cnt</th><th>after_cnt</th></tr></thead><tbody><tr><td>0. unknown</td><td>68,322</td><td>68,322</td><td>0.0%</td><td>0.0%</td><td>0.0</td><td>0.0</td><td>68322</td><td>68322</td></tr><tr><td>1. anonymous</td><td>7,126,300</td><td>6,282</td><td>5.1%</td><td>0.0%</td><td>5.1</td><td>0.0</td><td>7126300</td><td>6282</td></tr><tr><td>2. partial</td><td>41,667,318</td><td>23,408,769</td><td>29.9%</td><td>16.8%</td><td>29.9</td><td>16.8</td><td>41667318</td><td>23408769</td></tr><tr><td>3. known</td><td>90,366,711</td><td>115,745,278</td><td>64.9%</td><td>83.1%</td><td>64.9</td><td>83.1</td><td>90366711</td><td>115745278</td></tr></tbody></table></div>"
      ]
     },
     "metadata": {
      "application/vnd.databricks.v1+output": {
       "addedWidgets": {},
       "aggData": [],
       "aggError": "",
       "aggOverflow": false,
       "aggSchema": [],
       "aggSeriesLimitReached": false,
       "aggType": "",
       "arguments": {},
       "columnCustomDisplayInfos": {},
       "data": [
        [
         "0. unknown",
         "68,322",
         "68,322",
         "0.0%",
         "0.0%",
         "0.0",
         "0.0",
         68322,
         68322
        ],
        [
         "1. anonymous",
         "7,126,300",
         "6,282",
         "5.1%",
         "0.0%",
         "5.1",
         "0.0",
         7126300,
         6282
        ],
        [
         "2. partial",
         "41,667,318",
         "23,408,769",
         "29.9%",
         "16.8%",
         "29.9",
         "16.8",
         41667318,
         23408769
        ],
        [
         "3. known",
         "90,366,711",
         "115,745,278",
         "64.9%",
         "83.1%",
         "64.9",
         "83.1",
         90366711,
         115745278
        ]
       ],
       "datasetInfos": [
        {
         "name": "_sqldf",
         "schema": {
          "fields": [
           {
            "metadata": {},
            "name": "pii_classification",
            "nullable": true,
            "type": "string"
           },
           {
            "metadata": {},
            "name": "pre_id_res_record_cnt",
            "nullable": true,
            "type": "string"
           },
           {
            "metadata": {},
            "name": "post_id_res_record_cnt",
            "nullable": true,
            "type": "string"
           },
           {
            "metadata": {},
            "name": "Perc_pre_ID_Res",
            "nullable": true,
            "type": "string"
           },
           {
            "metadata": {},
            "name": "perc_post_id_res",
            "nullable": true,
            "type": "string"
           },
           {
            "metadata": {},
            "name": "Perc_pre_ID_Res_old",
            "nullable": true,
            "type": "decimal(26,1)"
           },
           {
            "metadata": {},
            "name": "perc_post_id_res_old",
            "nullable": true,
            "type": "decimal(26,1)"
           },
           {
            "metadata": {},
            "name": "before_cnt",
            "nullable": true,
            "type": "long"
           },
           {
            "metadata": {},
            "name": "after_cnt",
            "nullable": true,
            "type": "long"
           }
          ],
          "type": "struct"
         },
         "tableIdentifier": null,
         "typeStr": "pyspark.sql.connect.dataframe.DataFrame"
        }
       ],
       "dbfsResultPath": null,
       "isJsonSchema": true,
       "metadata": {
        "createTempViewForImplicitDf": true,
        "dataframeName": "_sqldf",
        "executionCount": 12
       },
       "overflow": false,
       "plotOptions": {
        "customPlotOptions": {},
        "displayType": "table",
        "pivotAggregation": null,
        "pivotColumns": null,
        "xColumns": null,
        "yColumns": null
       },
       "removedWidgets": [],
       "schema": [
        {
         "metadata": "{}",
         "name": "pii_classification",
         "type": "\"string\""
        },
        {
         "metadata": "{}",
         "name": "pre_id_res_record_cnt",
         "type": "\"string\""
        },
        {
         "metadata": "{}",
         "name": "post_id_res_record_cnt",
         "type": "\"string\""
        },
        {
         "metadata": "{}",
         "name": "Perc_pre_ID_Res",
         "type": "\"string\""
        },
        {
         "metadata": "{}",
         "name": "perc_post_id_res",
         "type": "\"string\""
        },
        {
         "metadata": "{}",
         "name": "Perc_pre_ID_Res_old",
         "type": "\"decimal(26,1)\""
        },
        {
         "metadata": "{}",
         "name": "perc_post_id_res_old",
         "type": "\"decimal(26,1)\""
        },
        {
         "metadata": "{}",
         "name": "before_cnt",
         "type": "\"long\""
        },
        {
         "metadata": "{}",
         "name": "after_cnt",
         "type": "\"long\""
        }
       ],
       "type": "table"
      }
     },
     "output_type": "display_data"
    }
   ],
   "source": [
    "%sql\n",
    "Select coalesce(row_known_unknown, amp_known_unknown) as pii_classification\n",
    "       , format_number(before_cnt, 0) as pre_id_res_record_cnt\n",
    "       , format_number(after_cnt, 0) as post_id_res_record_cnt\n",
    "       , concat(round(before_cnt * 100.0 / SUM(before_cnt) OVER (), 1), '%') AS Perc_pre_ID_Res\n",
    "       , concat(round(after_cnt * 100.0 / SUM(after_cnt) OVER (), 1), '%') AS perc_post_id_res\n",
    "       , round(before_cnt * 100.0 / SUM(before_cnt) OVER (), 1) as Perc_pre_ID_Res_old\n",
    "       , round(after_cnt * 100.0 / SUM(before_cnt) OVER (), 1) as perc_post_id_res_old\n",
    "       , before_cnt\n",
    "       , after_cnt\n",
    "From (Select row_known_unknown, Count(*) as before_cnt from final_View2_sql Group by 1) as before\n",
    "Full Join (Select amp_known_unknown, Count(*) as after_cnt from final_View2_sql Group by 1) as after\n",
    "on before.row_known_unknown = after.amp_known_unknown\n",
    "order by 1"
   ]
  },
  {
   "cell_type": "markdown",
   "metadata": {
    "application/vnd.databricks.v1+cell": {
     "cellMetadata": {
      "byteLimit": 2048000,
      "rowLimit": 10000
     },
     "inputWidgets": {},
     "nuid": "ab596f73-78b5-44f2-86e9-78239868334e",
     "showTitle": false,
     "tableResultSettingsMap": {},
     "title": ""
    }
   },
   "source": [
    "**Shift in PII Classification**\n",
    "\n",
    "In the following output we expand on the previous output by focusing on the **improvement** of your records.\n",
    "\n",
    "**On the left** (y axis) we have the pre-Identity Resolution PII classification for every records.\n",
    "\n",
    "**On the top**(x axis) we have the post-Identity Resolution PII classification.\n",
    "\n",
    "To read this think of the counts of pre vs post. \n",
    "_For example: Row `0. Unknown` --> Column `3. Known` is the count of records that went from being unknown to fully known._"
   ]
  },
  {
   "cell_type": "code",
   "execution_count": 0,
   "metadata": {
    "application/vnd.databricks.v1+cell": {
     "cellMetadata": {
      "byteLimit": 2048000,
      "implicitDf": true,
      "rowLimit": 10000
     },
     "inputWidgets": {},
     "nuid": "38f265c1-4538-452a-8e55-a65fbeb812fa",
     "showTitle": true,
     "tableResultSettingsMap": {},
     "title": "3. Shift in PII Classification"
    },
    "jupyter": {
     "source_hidden": true
    }
   },
   "outputs": [
    {
     "output_type": "display_data",
     "data": {
      "text/plain": [
       "Databricks visualization. Run in Databricks to view."
      ]
     },
     "metadata": {
      "application/vnd.databricks.v1.subcommand+json": {
       "baseErrorDetails": null,
       "bindings": {},
       "collapsed": false,
       "command": "%sql WITH q AS (Select row_known_unknown as pre_id_res_pii_classification\n       , amp_known_unknown as post_id_res_pii_classification\n       , count(*) as record_cnt\nFrom final_View2_sql\nGroup by 1, 2\norder by 1, 2) SELECT `pre_id_res_pii_classification`,`post_id_res_pii_classification`,SUM(`record_cnt`) `record_cnt_alias` FROM q GROUP BY `post_id_res_pii_classification`,`pre_id_res_pii_classification` ORDER BY `pre_id_res_pii_classification` ASC,`post_id_res_pii_classification` ASC",
       "commandTitle": "Record Level PII Classification Improvement",
       "commandType": "auto",
       "commandVersion": 0,
       "commentThread": [],
       "commentsVisible": false,
       "contentSha256Hex": null,
       "customPlotOptions": {
        "redashChart": [
         {
          "key": "type",
          "value": "PIVOT_TABLE"
         },
         {
          "key": "options",
          "value": {
           "cell": {
            "field": "record_cnt",
            "transform": {
             "fn": "sum"
            }
           },
           "cellNumberFormat": ",",
           "colorCellsByValue": true,
           "columns": [
            {
             "field": "post_id_res_pii_classification",
             "sort": "ascending"
            }
           ],
           "rows": [
            {
             "field": "pre_id_res_pii_classification",
             "sort": "ascending"
            }
           ]
          }
         }
        ]
       },
       "datasetPreviewNameToCmdIdMap": {},
       "diffDeletes": [],
       "diffInserts": [],
       "displayType": "redashChart",
       "error": null,
       "errorDetails": null,
       "errorSummary": null,
       "errorTraceType": null,
       "finishTime": 0,
       "globalVars": {},
       "guid": "",
       "height": "auto",
       "hideCommandCode": false,
       "hideCommandResult": false,
       "iPythonMetadata": null,
       "inputWidgets": {},
       "isLockedInExamMode": false,
       "latestUser": "a user",
       "latestUserId": null,
       "listResultMetadata": null,
       "metadata": {
        "byteLimit": 2048000,
        "implicitDf": true,
        "rowLimit": 10000
       },
       "nuid": "361e92ec-a2b7-4bf4-967a-d14c4caebade",
       "origId": 0,
       "parentHierarchy": [],
       "pivotAggregation": null,
       "pivotColumns": null,
       "position": -1.0,
       "resultDbfsErrorMessage": null,
       "resultDbfsStatus": "INLINED_IN_TREE",
       "results": null,
       "showCommandTitle": false,
       "startTime": 0,
       "state": "finished",
       "streamStates": {},
       "subcommandOptions": {
        "queryPlan": {
         "groups": [
          {
           "column": "pre_id_res_pii_classification",
           "type": "column"
          },
          {
           "column": "post_id_res_pii_classification",
           "type": "column"
          }
         ],
         "order_by": [
          {
           "direction": "asc",
           "expression": {
            "identifier": "pre_id_res_pii_classification",
            "kind": "identifier"
           }
          },
          {
           "direction": "asc",
           "expression": {
            "identifier": "post_id_res_pii_classification",
            "kind": "identifier"
           }
          }
         ],
         "selects": [
          {
           "column": "pre_id_res_pii_classification",
           "type": "column"
          },
          {
           "column": "post_id_res_pii_classification",
           "type": "column"
          },
          {
           "alias": "record_cnt_alias",
           "args": [
            {
             "column": "record_cnt",
             "type": "column"
            }
           ],
           "function": "SUM",
           "type": "function"
          }
         ]
        }
       },
       "submitTime": 0,
       "subtype": "tableResultSubCmd.visualization",
       "tableResultIndex": 0,
       "tableResultSettingsMap": {},
       "useConsistentColors": false,
       "version": "CommandV1",
       "width": "auto",
       "workflows": [],
       "xColumns": null,
       "yColumns": null
      }
     },
     "output_type": "display_data"
    },
    {
     "output_type": "display_data",
     "data": {
      "text/html": [
       "<style scoped>\n",
       "  .table-result-container {\n",
       "    max-height: 300px;\n",
       "    overflow: auto;\n",
       "  }\n",
       "  table, th, td {\n",
       "    border: 1px solid black;\n",
       "    border-collapse: collapse;\n",
       "  }\n",
       "  th, td {\n",
       "    padding: 5px;\n",
       "  }\n",
       "  th {\n",
       "    text-align: left;\n",
       "  }\n",
       "</style><div class='table-result-container'><table class='table-result'><thead style='background-color: white'><tr><th>pre_id_res_pii_classification</th><th>post_id_res_pii_classification</th><th>record_cnt</th></tr></thead><tbody><tr><td>0. unknown</td><td>0. unknown</td><td>68322</td></tr><tr><td>1. anonymous</td><td>1. anonymous</td><td>6282</td></tr><tr><td>1. anonymous</td><td>2. partial</td><td>6387327</td></tr><tr><td>1. anonymous</td><td>3. known</td><td>732691</td></tr><tr><td>2. partial</td><td>2. partial</td><td>17021442</td></tr><tr><td>2. partial</td><td>3. known</td><td>24645876</td></tr><tr><td>3. known</td><td>3. known</td><td>90366711</td></tr></tbody></table></div>"
      ]
     },
     "metadata": {
      "application/vnd.databricks.v1+output": {
       "addedWidgets": {},
       "aggData": [],
       "aggError": "",
       "aggOverflow": false,
       "aggSchema": [],
       "aggSeriesLimitReached": false,
       "aggType": "",
       "arguments": {},
       "columnCustomDisplayInfos": {},
       "data": [
        [
         "0. unknown",
         "0. unknown",
         68322
        ],
        [
         "1. anonymous",
         "1. anonymous",
         6282
        ],
        [
         "1. anonymous",
         "2. partial",
         6387327
        ],
        [
         "1. anonymous",
         "3. known",
         732691
        ],
        [
         "2. partial",
         "2. partial",
         17021442
        ],
        [
         "2. partial",
         "3. known",
         24645876
        ],
        [
         "3. known",
         "3. known",
         90366711
        ]
       ],
       "datasetInfos": [
        {
         "name": "_sqldf",
         "schema": {
          "fields": [
           {
            "metadata": {},
            "name": "pre_id_res_pii_classification",
            "nullable": true,
            "type": "string"
           },
           {
            "metadata": {},
            "name": "post_id_res_pii_classification",
            "nullable": true,
            "type": "string"
           },
           {
            "metadata": {},
            "name": "record_cnt",
            "nullable": false,
            "type": "long"
           }
          ],
          "type": "struct"
         },
         "tableIdentifier": null,
         "typeStr": "pyspark.sql.connect.dataframe.DataFrame"
        }
       ],
       "dbfsResultPath": null,
       "isJsonSchema": true,
       "metadata": {
        "createTempViewForImplicitDf": true,
        "dataframeName": "_sqldf",
        "executionCount": 13
       },
       "overflow": false,
       "plotOptions": {
        "customPlotOptions": {},
        "displayType": "table",
        "pivotAggregation": null,
        "pivotColumns": null,
        "xColumns": null,
        "yColumns": null
       },
       "removedWidgets": [],
       "schema": [
        {
         "metadata": "{}",
         "name": "pre_id_res_pii_classification",
         "type": "\"string\""
        },
        {
         "metadata": "{}",
         "name": "post_id_res_pii_classification",
         "type": "\"string\""
        },
        {
         "metadata": "{}",
         "name": "record_cnt",
         "type": "\"long\""
        }
       ],
       "type": "table"
      }
     },
     "output_type": "display_data"
    }
   ],
   "source": [
    "%sql\n",
    "\n",
    "Select row_known_unknown as pre_id_res_pii_classification\n",
    "       , amp_known_unknown as post_id_res_pii_classification\n",
    "       , count(*) as record_cnt\n",
    "From final_View2_sql\n",
    "Group by 1, 2\n",
    "order by 1, 2"
   ]
  },
  {
   "cell_type": "markdown",
   "metadata": {
    "application/vnd.databricks.v1+cell": {
     "cellMetadata": {
      "byteLimit": 2048000,
      "rowLimit": 10000
     },
     "inputWidgets": {},
     "nuid": "211bdd22-6cd2-4d4d-8225-36df83ee4b83",
     "showTitle": false,
     "tableResultSettingsMap": {},
     "title": ""
    }
   },
   "source": [
    "## VOI Report 2: ID-Res By Source"
   ]
  },
  {
   "cell_type": "markdown",
   "metadata": {
    "application/vnd.databricks.v1+cell": {
     "cellMetadata": {
      "byteLimit": 2048000,
      "rowLimit": 10000
     },
     "inputWidgets": {},
     "nuid": "432bcbca-afa8-437f-b864-89f79e861fef",
     "showTitle": false,
     "tableResultSettingsMap": {},
     "title": ""
    }
   },
   "source": [
    "**Records by Source**\n",
    "\n",
    "This output shows a comparison between the number of records (pre-Identity Resolution) to the number of clusters (post-Identity Resolution) by input source."
   ]
  },
  {
   "cell_type": "code",
   "execution_count": 0,
   "metadata": {
    "application/vnd.databricks.v1+cell": {
     "cellMetadata": {
      "byteLimit": 2048000,
      "implicitDf": true,
      "rowLimit": 10000
     },
     "inputWidgets": {},
     "nuid": "61547409-0a2b-41dd-b41a-92dc23f636b9",
     "showTitle": true,
     "tableResultSettingsMap": {},
     "title": "1. Records By Source"
    },
    "jupyter": {
     "source_hidden": true
    }
   },
   "outputs": [
    {
     "output_type": "display_data",
     "data": {
      "text/plain": [
       "Databricks visualization. Run in Databricks to view."
      ]
     },
     "metadata": {
      "application/vnd.databricks.v1.subcommand+json": {
       "baseErrorDetails": null,
       "bindings": {},
       "collapsed": false,
       "command": "%sql WITH q AS (Select source\n            , count(*) as source_ids\n            , count(distinct Amperity_ID) as amp_ids\n  From unified_coalesced_sql\n  Group by 1\n  order by 2 desc) SELECT `source`,SUM(`source_ids`) `column_4b7ff3b6213`,SUM(`amp_ids`) `column_4b7ff3b6219` FROM q GROUP BY `source`",
       "commandTitle": "Clusters vs. Original Record Count By Source",
       "commandType": "auto",
       "commandVersion": 0,
       "commentThread": [],
       "commentsVisible": false,
       "contentSha256Hex": null,
       "customPlotOptions": {
        "redashChart": [
         {
          "key": "type",
          "value": "CHART"
         },
         {
          "key": "options",
          "value": {
           "alignYAxesAtZero": true,
           "coefficient": 1,
           "columnConfigurationMap": {
            "x": {
             "column": "source",
             "id": "column_4b7ff3b6215"
            },
            "y": [
             {
              "column": "source_ids",
              "id": "column_4b7ff3b6213",
              "transform": "SUM"
             },
             {
              "column": "amp_ids",
              "id": "column_4b7ff3b6219",
              "transform": "SUM"
             }
            ]
           },
           "dateTimeFormat": "DD/MM/YYYY HH:mm",
           "direction": {
            "type": "counterclockwise"
           },
           "error_y": {
            "type": "data",
            "visible": true
           },
           "globalSeriesType": "column",
           "isAggregationOn": true,
           "legend": {
            "traceorder": "normal"
           },
           "missingValuesAsZero": true,
           "numberFormat": "0,0.[00000]",
           "percentFormat": "0[.]00%",
           "series": {
            "error_y": {
             "type": "data",
             "visible": true
            },
            "stacking": null
           },
           "seriesOptions": {
            "column_4b7ff3b6209": {
             "name": "Clusters",
             "type": "column",
             "yAxis": 0
            },
            "column_4b7ff3b6213": {
             "color": "#8BCAE7",
             "name": "Source Records",
             "type": "column",
             "yAxis": 0
            },
            "column_4b7ff3b6219": {
             "color": "#077A9D",
             "name": "Clusters",
             "type": "column",
             "yAxis": 0
            }
           },
           "showDataLabels": true,
           "sizemode": "diameter",
           "sortX": true,
           "sortY": true,
           "swappedAxes": true,
           "textFormat": "",
           "useAggregationsUi": true,
           "valuesOptions": {},
           "version": 2,
           "xAxis": {
            "labels": {
             "enabled": true
            },
            "title": {
             "text": "Source"
            },
            "type": "-"
           },
           "yAxis": [
            {
             "title": {
              "text": "Count of Records"
             },
             "type": "-"
            },
            {
             "opposite": true,
             "type": "-"
            }
           ]
          }
         }
        ]
       },
       "datasetPreviewNameToCmdIdMap": {},
       "diffDeletes": [],
       "diffInserts": [],
       "displayType": "redashChart",
       "error": null,
       "errorDetails": null,
       "errorSummary": null,
       "errorTraceType": null,
       "finishTime": 0,
       "globalVars": {},
       "guid": "",
       "height": "auto",
       "hideCommandCode": false,
       "hideCommandResult": false,
       "iPythonMetadata": null,
       "inputWidgets": {},
       "isLockedInExamMode": false,
       "latestUser": "a user",
       "latestUserId": null,
       "listResultMetadata": null,
       "metadata": {
        "byteLimit": 2048000,
        "implicitDf": true,
        "rowLimit": 10000
       },
       "nuid": "f922008a-70ff-4c2d-a666-6b343e122512",
       "origId": 0,
       "parentHierarchy": [],
       "pivotAggregation": null,
       "pivotColumns": null,
       "position": -1.0,
       "resultDbfsErrorMessage": null,
       "resultDbfsStatus": "INLINED_IN_TREE",
       "results": null,
       "showCommandTitle": false,
       "startTime": 0,
       "state": "finished",
       "streamStates": {},
       "subcommandOptions": {
        "queryPlan": {
         "groups": [
          {
           "column": "source",
           "type": "column"
          }
         ],
         "selects": [
          {
           "column": "source",
           "type": "column"
          },
          {
           "alias": "column_4b7ff3b6213",
           "args": [
            {
             "column": "source_ids",
             "type": "column"
            }
           ],
           "function": "SUM",
           "type": "function"
          },
          {
           "alias": "column_4b7ff3b6219",
           "args": [
            {
             "column": "amp_ids",
             "type": "column"
            }
           ],
           "function": "SUM",
           "type": "function"
          }
         ]
        }
       },
       "submitTime": 0,
       "subtype": "tableResultSubCmd.visualization",
       "tableResultIndex": 0,
       "tableResultSettingsMap": {},
       "useConsistentColors": false,
       "version": "CommandV1",
       "width": "auto",
       "workflows": [],
       "xColumns": null,
       "yColumns": null
      }
     },
     "output_type": "display_data"
    },
    {
     "output_type": "display_data",
     "data": {
      "text/html": [
       "<style scoped>\n",
       "  .table-result-container {\n",
       "    max-height: 300px;\n",
       "    overflow: auto;\n",
       "  }\n",
       "  table, th, td {\n",
       "    border: 1px solid black;\n",
       "    border-collapse: collapse;\n",
       "  }\n",
       "  th, td {\n",
       "    padding: 5px;\n",
       "  }\n",
       "  th {\n",
       "    text-align: left;\n",
       "  }\n",
       "</style><div class='table-result-container'><table class='table-result'><thead style='background-color: white'><tr><th>source</th><th>source_ids</th><th>amp_ids</th></tr></thead><tbody><tr><td>amperity_marketplace.bronze.wifi_connections</td><td>41735640</td><td>39502598</td></tr><tr><td>amperity_marketplace.bronze.e_commerce_customers</td><td>34962751</td><td>31894240</td></tr><tr><td>amperity_marketplace.bronze.pos_customers</td><td>32711798</td><td>30875076</td></tr><tr><td>amperity_marketplace.bronze.loyalty_members</td><td>22692162</td><td>22458462</td></tr><tr><td>amperity_marketplace.bronze.web_visitors</td><td>7126300</td><td>6640261</td></tr></tbody></table></div>"
      ]
     },
     "metadata": {
      "application/vnd.databricks.v1+output": {
       "addedWidgets": {},
       "aggData": [],
       "aggError": "",
       "aggOverflow": false,
       "aggSchema": [],
       "aggSeriesLimitReached": false,
       "aggType": "",
       "arguments": {},
       "columnCustomDisplayInfos": {},
       "data": [
        [
         "amperity_marketplace.bronze.wifi_connections",
         41735640,
         39502598
        ],
        [
         "amperity_marketplace.bronze.e_commerce_customers",
         34962751,
         31894240
        ],
        [
         "amperity_marketplace.bronze.pos_customers",
         32711798,
         30875076
        ],
        [
         "amperity_marketplace.bronze.loyalty_members",
         22692162,
         22458462
        ],
        [
         "amperity_marketplace.bronze.web_visitors",
         7126300,
         6640261
        ]
       ],
       "datasetInfos": [
        {
         "name": "_sqldf",
         "schema": {
          "fields": [
           {
            "metadata": {},
            "name": "source",
            "nullable": true,
            "type": "string"
           },
           {
            "metadata": {},
            "name": "source_ids",
            "nullable": false,
            "type": "long"
           },
           {
            "metadata": {},
            "name": "amp_ids",
            "nullable": false,
            "type": "long"
           }
          ],
          "type": "struct"
         },
         "tableIdentifier": null,
         "typeStr": "pyspark.sql.connect.dataframe.DataFrame"
        }
       ],
       "dbfsResultPath": null,
       "isJsonSchema": true,
       "metadata": {
        "createTempViewForImplicitDf": true,
        "dataframeName": "_sqldf",
        "executionCount": 14
       },
       "overflow": false,
       "plotOptions": {
        "customPlotOptions": {},
        "displayType": "table",
        "pivotAggregation": null,
        "pivotColumns": null,
        "xColumns": null,
        "yColumns": null
       },
       "removedWidgets": [],
       "schema": [
        {
         "metadata": "{}",
         "name": "source",
         "type": "\"string\""
        },
        {
         "metadata": "{}",
         "name": "source_ids",
         "type": "\"long\""
        },
        {
         "metadata": "{}",
         "name": "amp_ids",
         "type": "\"long\""
        }
       ],
       "type": "table"
      }
     },
     "output_type": "display_data"
    }
   ],
   "source": [
    "%sql\n",
    "Select source\n",
    "            , count(*) as source_ids\n",
    "            , count(distinct Amperity_ID) as amp_ids\n",
    "  From unified_coalesced_sql\n",
    "  Group by 1\n",
    "  order by 2 desc"
   ]
  },
  {
   "cell_type": "markdown",
   "metadata": {
    "application/vnd.databricks.v1+cell": {
     "cellMetadata": {
      "byteLimit": 2048000,
      "rowLimit": 10000
     },
     "inputWidgets": {},
     "nuid": "33f29e45-cc5a-4cad-9c88-5cd30567047f",
     "showTitle": false,
     "tableResultSettingsMap": {},
     "title": ""
    }
   },
   "source": [
    "**Dedupe Rate By Source**\n",
    "\n",
    "We then use that analysis to create a de-dupe rate by source. this This highlights sources that are \"consolidated, revealing instances where two or more records are merged into a single cluster within the same source. \n",
    "\n",
    "This consolidation indicates areas where data can be effectively cleaned and deduplicated, reducing redundancy and presenting a clearer view of customer information for improved decision-making and personalized interactions.\n",
    "\n"
   ]
  },
  {
   "cell_type": "code",
   "execution_count": 0,
   "metadata": {
    "application/vnd.databricks.v1+cell": {
     "cellMetadata": {
      "byteLimit": 2048000,
      "implicitDf": true,
      "rowLimit": 10000
     },
     "inputWidgets": {},
     "nuid": "522fa087-d2a9-4d49-9323-cc6886c7a7c1",
     "showTitle": true,
     "tableResultSettingsMap": {},
     "title": "2. Dedupe Rate By Source"
    },
    "jupyter": {
     "source_hidden": true
    }
   },
   "outputs": [
    {
     "output_type": "display_data",
     "data": {
      "text/plain": [
       "Databricks visualization. Run in Databricks to view."
      ]
     },
     "metadata": {
      "application/vnd.databricks.v1.subcommand+json": {
       "baseErrorDetails": null,
       "bindings": {},
       "collapsed": false,
       "command": "%sql WITH q AS (Select source\n            , count(*) as source_ids\n            , count(distinct Amperity_ID) as amp_ids\n            , round(1 - (1.0 * count(distinct(Amperity_ID)) / count(*)), 3) as source_dupe_rate\n            , CONCAT(round(100 - (100.0 * count(distinct(Amperity_ID)) / count(*)), 1), '%') AS source_dedupe_rate_perc\n            , count(*) - count(distinct Amperity_ID) as records_de_duped\n  From unified_coalesced_sql\n  Group by 1\n  order by 2 desc) SELECT `source`,SUM(`records_de_duped`) `column_4b7ff3b6225` FROM q GROUP BY `source`",
       "commandTitle": "# of Records De-Duped By Source",
       "commandType": "auto",
       "commandVersion": 0,
       "commentThread": [],
       "commentsVisible": false,
       "contentSha256Hex": null,
       "customPlotOptions": {
        "redashChart": [
         {
          "key": "type",
          "value": "CHART"
         },
         {
          "key": "options",
          "value": {
           "alignYAxesAtZero": true,
           "coefficient": 1,
           "columnConfigurationMap": {
            "x": {
             "column": "source",
             "id": "column_4b7ff3b6223"
            },
            "y": [
             {
              "column": "records_de_duped",
              "id": "column_4b7ff3b6225",
              "transform": "SUM"
             }
            ]
           },
           "dateTimeFormat": "DD/MM/YYYY HH:mm",
           "direction": {
            "type": "counterclockwise"
           },
           "error_y": {
            "type": "data",
            "visible": true
           },
           "globalSeriesType": "column",
           "isAggregationOn": true,
           "legend": {
            "traceorder": "normal"
           },
           "missingValuesAsZero": true,
           "numberFormat": "0,0.[00000]",
           "percentFormat": "0[.]00%",
           "series": {
            "error_y": {
             "type": "data",
             "visible": true
            },
            "stacking": null
           },
           "seriesOptions": {
            "column_4b7ff3b6225": {
             "type": "column",
             "yAxis": 0
            }
           },
           "showDataLabels": true,
           "sizemode": "diameter",
           "sortX": true,
           "sortY": true,
           "swappedAxes": true,
           "textFormat": "",
           "useAggregationsUi": true,
           "valuesOptions": {},
           "version": 2,
           "xAxis": {
            "labels": {
             "enabled": true
            },
            "type": "-"
           },
           "yAxis": [
            {
             "title": {
              "text": "Records De-Duped"
             },
             "type": "-"
            },
            {
             "opposite": true,
             "type": "-"
            }
           ]
          }
         }
        ]
       },
       "datasetPreviewNameToCmdIdMap": {},
       "diffDeletes": [],
       "diffInserts": [],
       "displayType": "redashChart",
       "error": null,
       "errorDetails": null,
       "errorSummary": null,
       "errorTraceType": null,
       "finishTime": 0,
       "globalVars": {},
       "guid": "",
       "height": "auto",
       "hideCommandCode": false,
       "hideCommandResult": false,
       "iPythonMetadata": null,
       "inputWidgets": {},
       "isLockedInExamMode": false,
       "latestUser": "a user",
       "latestUserId": null,
       "listResultMetadata": null,
       "metadata": {
        "byteLimit": 2048000,
        "implicitDf": true,
        "rowLimit": 10000
       },
       "nuid": "1e1eb462-d47e-47e1-a9a4-27dc627fd988",
       "origId": 0,
       "parentHierarchy": [],
       "pivotAggregation": null,
       "pivotColumns": null,
       "position": -1.0,
       "resultDbfsErrorMessage": null,
       "resultDbfsStatus": "INLINED_IN_TREE",
       "results": null,
       "showCommandTitle": false,
       "startTime": 0,
       "state": "finished",
       "streamStates": {},
       "subcommandOptions": {
        "queryPlan": {
         "groups": [
          {
           "column": "source",
           "type": "column"
          }
         ],
         "selects": [
          {
           "column": "source",
           "type": "column"
          },
          {
           "alias": "column_4b7ff3b6225",
           "args": [
            {
             "column": "records_de_duped",
             "type": "column"
            }
           ],
           "function": "SUM",
           "type": "function"
          }
         ]
        }
       },
       "submitTime": 0,
       "subtype": "tableResultSubCmd.visualization",
       "tableResultIndex": 0,
       "tableResultSettingsMap": {},
       "useConsistentColors": false,
       "version": "CommandV1",
       "width": "auto",
       "workflows": [],
       "xColumns": null,
       "yColumns": null
      }
     },
     "output_type": "display_data"
    },
    {
     "output_type": "display_data",
     "data": {
      "text/html": [
       "<style scoped>\n",
       "  .table-result-container {\n",
       "    max-height: 300px;\n",
       "    overflow: auto;\n",
       "  }\n",
       "  table, th, td {\n",
       "    border: 1px solid black;\n",
       "    border-collapse: collapse;\n",
       "  }\n",
       "  th, td {\n",
       "    padding: 5px;\n",
       "  }\n",
       "  th {\n",
       "    text-align: left;\n",
       "  }\n",
       "</style><div class='table-result-container'><table class='table-result'><thead style='background-color: white'><tr><th>source</th><th>source_ids</th><th>amp_ids</th><th>source_dupe_rate</th><th>source_dedupe_rate_perc</th><th>records_de_duped</th></tr></thead><tbody><tr><td>amperity_marketplace.bronze.wifi_connections</td><td>41735640</td><td>39502598</td><td>0.054</td><td>5.4%</td><td>2233042</td></tr><tr><td>amperity_marketplace.bronze.e_commerce_customers</td><td>34962751</td><td>31894240</td><td>0.088</td><td>8.8%</td><td>3068511</td></tr><tr><td>amperity_marketplace.bronze.pos_customers</td><td>32711798</td><td>30875076</td><td>0.056</td><td>5.6%</td><td>1836722</td></tr><tr><td>amperity_marketplace.bronze.loyalty_members</td><td>22692162</td><td>22458462</td><td>0.010</td><td>1.0%</td><td>233700</td></tr><tr><td>amperity_marketplace.bronze.web_visitors</td><td>7126300</td><td>6640261</td><td>0.068</td><td>6.8%</td><td>486039</td></tr></tbody></table></div>"
      ]
     },
     "metadata": {
      "application/vnd.databricks.v1+output": {
       "addedWidgets": {},
       "aggData": [],
       "aggError": "",
       "aggOverflow": false,
       "aggSchema": [],
       "aggSeriesLimitReached": false,
       "aggType": "",
       "arguments": {},
       "columnCustomDisplayInfos": {},
       "data": [
        [
         "amperity_marketplace.bronze.wifi_connections",
         41735640,
         39502598,
         "0.054",
         "5.4%",
         2233042
        ],
        [
         "amperity_marketplace.bronze.e_commerce_customers",
         34962751,
         31894240,
         "0.088",
         "8.8%",
         3068511
        ],
        [
         "amperity_marketplace.bronze.pos_customers",
         32711798,
         30875076,
         "0.056",
         "5.6%",
         1836722
        ],
        [
         "amperity_marketplace.bronze.loyalty_members",
         22692162,
         22458462,
         "0.010",
         "1.0%",
         233700
        ],
        [
         "amperity_marketplace.bronze.web_visitors",
         7126300,
         6640261,
         "0.068",
         "6.8%",
         486039
        ]
       ],
       "datasetInfos": [
        {
         "name": "_sqldf",
         "schema": {
          "fields": [
           {
            "metadata": {},
            "name": "source",
            "nullable": true,
            "type": "string"
           },
           {
            "metadata": {},
            "name": "source_ids",
            "nullable": false,
            "type": "long"
           },
           {
            "metadata": {},
            "name": "amp_ids",
            "nullable": false,
            "type": "long"
           },
           {
            "metadata": {},
            "name": "source_dupe_rate",
            "nullable": true,
            "type": "decimal(27,3)"
           },
           {
            "metadata": {},
            "name": "source_dedupe_rate_perc",
            "nullable": true,
            "type": "string"
           },
           {
            "metadata": {},
            "name": "records_de_duped",
            "nullable": false,
            "type": "long"
           }
          ],
          "type": "struct"
         },
         "tableIdentifier": null,
         "typeStr": "pyspark.sql.connect.dataframe.DataFrame"
        }
       ],
       "dbfsResultPath": null,
       "isJsonSchema": true,
       "metadata": {
        "createTempViewForImplicitDf": true,
        "dataframeName": "_sqldf",
        "executionCount": 15
       },
       "overflow": false,
       "plotOptions": {
        "customPlotOptions": {},
        "displayType": "table",
        "pivotAggregation": null,
        "pivotColumns": null,
        "xColumns": null,
        "yColumns": null
       },
       "removedWidgets": [],
       "schema": [
        {
         "metadata": "{}",
         "name": "source",
         "type": "\"string\""
        },
        {
         "metadata": "{}",
         "name": "source_ids",
         "type": "\"long\""
        },
        {
         "metadata": "{}",
         "name": "amp_ids",
         "type": "\"long\""
        },
        {
         "metadata": "{}",
         "name": "source_dupe_rate",
         "type": "\"decimal(27,3)\""
        },
        {
         "metadata": "{}",
         "name": "source_dedupe_rate_perc",
         "type": "\"string\""
        },
        {
         "metadata": "{}",
         "name": "records_de_duped",
         "type": "\"long\""
        }
       ],
       "type": "table"
      }
     },
     "output_type": "display_data"
    }
   ],
   "source": [
    "%sql\n",
    "Select source\n",
    "            , count(*) as source_ids\n",
    "            , count(distinct Amperity_ID) as amp_ids\n",
    "            , round(1 - (1.0 * count(distinct(Amperity_ID)) / count(*)), 3) as source_dupe_rate\n",
    "            , CONCAT(round(100 - (100.0 * count(distinct(Amperity_ID)) / count(*)), 1), '%') AS source_dedupe_rate_perc\n",
    "            , count(*) - count(distinct Amperity_ID) as records_de_duped\n",
    "  From unified_coalesced_sql\n",
    "  Group by 1\n",
    "  order by 2 desc"
   ]
  },
  {
   "cell_type": "markdown",
   "metadata": {
    "application/vnd.databricks.v1+cell": {
     "cellMetadata": {
      "byteLimit": 2048000,
      "rowLimit": 10000
     },
     "inputWidgets": {},
     "nuid": "36b189eb-7341-4afe-ba9f-8ed85ddebbe2",
     "showTitle": false,
     "tableResultSettingsMap": {},
     "title": ""
    }
   },
   "source": [
    "**How Are Clusters Consolidating Records By Source**\n",
    "\n",
    "Next, we'll explore even deeper into the consolidation of records into clusters. This analysis focuses on instances where clusters are combining 3 or more records into 1, highlighting sources with higher levels of overlapping customer data compared to others.\n",
    "\n",
    "\n"
   ]
  },
  {
   "cell_type": "code",
   "execution_count": 0,
   "metadata": {
    "application/vnd.databricks.v1+cell": {
     "cellMetadata": {
      "byteLimit": 2048000,
      "implicitDf": true,
      "rowLimit": 10000
     },
     "inputWidgets": {},
     "nuid": "5e8c669f-48ae-4b90-967a-d81159c13347",
     "showTitle": true,
     "tableResultSettingsMap": {},
     "title": "3. How Are Clusters Consolidating Records By Source"
    },
    "jupyter": {
     "source_hidden": true
    }
   },
   "outputs": [
    {
     "output_type": "display_data",
     "data": {
      "text/plain": [
       "Databricks visualization. Run in Databricks to view."
      ]
     },
     "metadata": {
      "application/vnd.databricks.v1.subcommand+json": {
       "baseErrorDetails": null,
       "bindings": {},
       "collapsed": false,
       "command": "%sql WITH q AS (With cnts_by_source as (\n    Select Amperity_ID, source\n                , count(*) as records_in_source_cluster\n                , case when count(*) = 1 then '1 Record to 1 Cluster'\n                      when count(*) = 2 then '2 Records to 1 Cluster'\n                      else '3+ Records to 1 Cluster' \n                end as records_in_cluster\n    From unified_coalesced_sql\n    Group by 1, 2\n  )\nSelect Source, records_in_cluster, count(*) as cnt\nFrom cnts_by_source\nGroup by 1, 2\nOrder by 1, 2) SELECT `Source`,`records_in_cluster`,SUM(`cnt`) `column_4b7ff3b6232` FROM q GROUP BY `Source`,`records_in_cluster`",
       "commandTitle": "How Are Clusters Consolidating Records By Source",
       "commandType": "auto",
       "commandVersion": 0,
       "commentThread": [],
       "commentsVisible": false,
       "contentSha256Hex": null,
       "customPlotOptions": {
        "redashChart": [
         {
          "key": "type",
          "value": "CHART"
         },
         {
          "key": "options",
          "value": {
           "alignYAxesAtZero": true,
           "coefficient": 1,
           "columnConfigurationMap": {
            "series": {
             "column": "records_in_cluster",
             "id": "column_4b7ff3b6231"
            },
            "x": {
             "column": "Source",
             "id": "column_4b7ff3b6230"
            },
            "y": [
             {
              "column": "cnt",
              "id": "column_4b7ff3b6232",
              "transform": "SUM"
             }
            ]
           },
           "dateTimeFormat": "DD/MM/YYYY HH:mm",
           "direction": {
            "type": "counterclockwise"
           },
           "error_y": {
            "type": "data",
            "visible": true
           },
           "globalSeriesType": "column",
           "isAggregationOn": true,
           "legend": {
            "traceorder": "normal"
           },
           "missingValuesAsZero": true,
           "numberFormat": "0,0.[00000]",
           "percentFormat": "0[.]00%",
           "series": {
            "error_y": {
             "type": "data",
             "visible": true
            },
            "stacking": "stack"
           },
           "seriesOptions": {
            "1 Record to 1 Cluster": {
             "color": "#FCA4A1"
            },
            "2 Records to 1 Cluster": {
             "color": "#BF7080"
            },
            "3+ Records to 1 Cluster": {
             "color": "#AB4057"
            },
            "column_4b7ff3b6232": {
             "name": "cnt",
             "yAxis": 0
            }
           },
           "showDataLabels": true,
           "sizemode": "diameter",
           "sortX": true,
           "sortY": true,
           "swappedAxes": true,
           "textFormat": "",
           "useAggregationsUi": true,
           "valuesOptions": {},
           "version": 2,
           "xAxis": {
            "labels": {
             "enabled": true
            },
            "type": "-"
           },
           "yAxis": [
            {
             "title": {
              "text": "Count of Clusters"
             },
             "type": "-"
            },
            {
             "opposite": true,
             "type": "-"
            }
           ]
          }
         }
        ]
       },
       "datasetPreviewNameToCmdIdMap": {},
       "diffDeletes": [],
       "diffInserts": [],
       "displayType": "redashChart",
       "error": null,
       "errorDetails": null,
       "errorSummary": null,
       "errorTraceType": null,
       "finishTime": 0,
       "globalVars": {},
       "guid": "",
       "height": "auto",
       "hideCommandCode": false,
       "hideCommandResult": false,
       "iPythonMetadata": null,
       "inputWidgets": {},
       "isLockedInExamMode": false,
       "latestUser": "a user",
       "latestUserId": null,
       "listResultMetadata": null,
       "metadata": {
        "byteLimit": 2048000,
        "implicitDf": true,
        "rowLimit": 10000
       },
       "nuid": "1b5ebd20-52d3-4ff1-8cb2-11e06aa61b63",
       "origId": 0,
       "parentHierarchy": [],
       "pivotAggregation": null,
       "pivotColumns": null,
       "position": -1.0,
       "resultDbfsErrorMessage": null,
       "resultDbfsStatus": "INLINED_IN_TREE",
       "results": null,
       "showCommandTitle": false,
       "startTime": 0,
       "state": "finished",
       "streamStates": {},
       "subcommandOptions": {
        "queryPlan": {
         "groups": [
          {
           "column": "Source",
           "type": "column"
          },
          {
           "column": "records_in_cluster",
           "type": "column"
          }
         ],
         "selects": [
          {
           "column": "Source",
           "type": "column"
          },
          {
           "column": "records_in_cluster",
           "type": "column"
          },
          {
           "alias": "column_4b7ff3b6232",
           "args": [
            {
             "column": "cnt",
             "type": "column"
            }
           ],
           "function": "SUM",
           "type": "function"
          }
         ]
        }
       },
       "submitTime": 0,
       "subtype": "tableResultSubCmd.visualization",
       "tableResultIndex": 0,
       "tableResultSettingsMap": {},
       "useConsistentColors": false,
       "version": "CommandV1",
       "width": "auto",
       "workflows": [],
       "xColumns": null,
       "yColumns": null
      }
     },
     "output_type": "display_data"
    },
    {
     "output_type": "display_data",
     "data": {
      "text/html": [
       "<style scoped>\n",
       "  .table-result-container {\n",
       "    max-height: 300px;\n",
       "    overflow: auto;\n",
       "  }\n",
       "  table, th, td {\n",
       "    border: 1px solid black;\n",
       "    border-collapse: collapse;\n",
       "  }\n",
       "  th, td {\n",
       "    padding: 5px;\n",
       "  }\n",
       "  th {\n",
       "    text-align: left;\n",
       "  }\n",
       "</style><div class='table-result-container'><table class='table-result'><thead style='background-color: white'><tr><th>Source</th><th>records_in_cluster</th><th>cnt</th></tr></thead><tbody><tr><td>amperity_marketplace.bronze.e_commerce_customers</td><td>1 Record to 1 Cluster</td><td>29701219</td></tr><tr><td>amperity_marketplace.bronze.e_commerce_customers</td><td>2 Records to 1 Cluster</td><td>2021803</td></tr><tr><td>amperity_marketplace.bronze.e_commerce_customers</td><td>3+ Records to 1 Cluster</td><td>171218</td></tr><tr><td>amperity_marketplace.bronze.loyalty_members</td><td>1 Record to 1 Cluster</td><td>22295890</td></tr><tr><td>amperity_marketplace.bronze.loyalty_members</td><td>2 Records to 1 Cluster</td><td>128818</td></tr><tr><td>amperity_marketplace.bronze.loyalty_members</td><td>3+ Records to 1 Cluster</td><td>33754</td></tr><tr><td>amperity_marketplace.bronze.pos_customers</td><td>1 Record to 1 Cluster</td><td>29182141</td></tr><tr><td>amperity_marketplace.bronze.pos_customers</td><td>2 Records to 1 Cluster</td><td>1622579</td></tr><tr><td>amperity_marketplace.bronze.pos_customers</td><td>3+ Records to 1 Cluster</td><td>70356</td></tr><tr><td>amperity_marketplace.bronze.web_visitors</td><td>1 Record to 1 Cluster</td><td>6170570</td></tr><tr><td>amperity_marketplace.bronze.web_visitors</td><td>2 Records to 1 Cluster</td><td>456336</td></tr><tr><td>amperity_marketplace.bronze.web_visitors</td><td>3+ Records to 1 Cluster</td><td>13355</td></tr><tr><td>amperity_marketplace.bronze.wifi_connections</td><td>1 Record to 1 Cluster</td><td>37702034</td></tr><tr><td>amperity_marketplace.bronze.wifi_connections</td><td>2 Records to 1 Cluster</td><td>1544320</td></tr><tr><td>amperity_marketplace.bronze.wifi_connections</td><td>3+ Records to 1 Cluster</td><td>256244</td></tr></tbody></table></div>"
      ]
     },
     "metadata": {
      "application/vnd.databricks.v1+output": {
       "addedWidgets": {},
       "aggData": [],
       "aggError": "",
       "aggOverflow": false,
       "aggSchema": [],
       "aggSeriesLimitReached": false,
       "aggType": "",
       "arguments": {},
       "columnCustomDisplayInfos": {},
       "data": [
        [
         "amperity_marketplace.bronze.e_commerce_customers",
         "1 Record to 1 Cluster",
         29701219
        ],
        [
         "amperity_marketplace.bronze.e_commerce_customers",
         "2 Records to 1 Cluster",
         2021803
        ],
        [
         "amperity_marketplace.bronze.e_commerce_customers",
         "3+ Records to 1 Cluster",
         171218
        ],
        [
         "amperity_marketplace.bronze.loyalty_members",
         "1 Record to 1 Cluster",
         22295890
        ],
        [
         "amperity_marketplace.bronze.loyalty_members",
         "2 Records to 1 Cluster",
         128818
        ],
        [
         "amperity_marketplace.bronze.loyalty_members",
         "3+ Records to 1 Cluster",
         33754
        ],
        [
         "amperity_marketplace.bronze.pos_customers",
         "1 Record to 1 Cluster",
         29182141
        ],
        [
         "amperity_marketplace.bronze.pos_customers",
         "2 Records to 1 Cluster",
         1622579
        ],
        [
         "amperity_marketplace.bronze.pos_customers",
         "3+ Records to 1 Cluster",
         70356
        ],
        [
         "amperity_marketplace.bronze.web_visitors",
         "1 Record to 1 Cluster",
         6170570
        ],
        [
         "amperity_marketplace.bronze.web_visitors",
         "2 Records to 1 Cluster",
         456336
        ],
        [
         "amperity_marketplace.bronze.web_visitors",
         "3+ Records to 1 Cluster",
         13355
        ],
        [
         "amperity_marketplace.bronze.wifi_connections",
         "1 Record to 1 Cluster",
         37702034
        ],
        [
         "amperity_marketplace.bronze.wifi_connections",
         "2 Records to 1 Cluster",
         1544320
        ],
        [
         "amperity_marketplace.bronze.wifi_connections",
         "3+ Records to 1 Cluster",
         256244
        ]
       ],
       "datasetInfos": [
        {
         "name": "_sqldf",
         "schema": {
          "fields": [
           {
            "metadata": {},
            "name": "Source",
            "nullable": true,
            "type": "string"
           },
           {
            "metadata": {},
            "name": "records_in_cluster",
            "nullable": false,
            "type": "string"
           },
           {
            "metadata": {},
            "name": "cnt",
            "nullable": false,
            "type": "long"
           }
          ],
          "type": "struct"
         },
         "tableIdentifier": null,
         "typeStr": "pyspark.sql.connect.dataframe.DataFrame"
        }
       ],
       "dbfsResultPath": null,
       "isJsonSchema": true,
       "metadata": {
        "createTempViewForImplicitDf": true,
        "dataframeName": "_sqldf",
        "executionCount": 16
       },
       "overflow": false,
       "plotOptions": {
        "customPlotOptions": {},
        "displayType": "table",
        "pivotAggregation": null,
        "pivotColumns": null,
        "xColumns": null,
        "yColumns": null
       },
       "removedWidgets": [],
       "schema": [
        {
         "metadata": "{}",
         "name": "Source",
         "type": "\"string\""
        },
        {
         "metadata": "{}",
         "name": "records_in_cluster",
         "type": "\"string\""
        },
        {
         "metadata": "{}",
         "name": "cnt",
         "type": "\"long\""
        }
       ],
       "type": "table"
      }
     },
     "output_type": "display_data"
    }
   ],
   "source": [
    "%sql\n",
    "With cnts_by_source as (\n",
    "    Select Amperity_ID, source\n",
    "                , count(*) as records_in_source_cluster\n",
    "                , case when count(*) = 1 then '1 Record to 1 Cluster'\n",
    "                      when count(*) = 2 then '2 Records to 1 Cluster'\n",
    "                      else '3+ Records to 1 Cluster' \n",
    "                end as records_in_cluster\n",
    "    From unified_coalesced_sql\n",
    "    Group by 1, 2\n",
    "  )\n",
    "Select Source, records_in_cluster, count(*) as cnt\n",
    "From cnts_by_source\n",
    "Group by 1, 2\n",
    "Order by 1, 2"
   ]
  },
  {
   "cell_type": "markdown",
   "metadata": {
    "application/vnd.databricks.v1+cell": {
     "cellMetadata": {
      "byteLimit": 2048000,
      "rowLimit": 10000
     },
     "inputWidgets": {},
     "nuid": "4b7088f1-e0ea-40f6-831a-cf9595a5857e",
     "showTitle": false,
     "tableResultSettingsMap": {},
     "title": ""
    }
   },
   "source": [
    "**PII Improvement by Source**\n",
    "\n",
    "The following output is a table output of the improvement in PII classification by source.\n",
    "\n",
    "_Accurate PII classification enables better data-driven decision-making based on reliable customer insights and ultimately contributes to improved brand reputation and customer loyalty. Improved PII classification also enables brands to create high-quality data for advanced ML/AI algorithms, enhancing data analysis, predictive modeling, and personalized recommendations._"
   ]
  },
  {
   "cell_type": "code",
   "execution_count": 0,
   "metadata": {
    "application/vnd.databricks.v1+cell": {
     "cellMetadata": {
      "byteLimit": 2048000,
      "implicitDf": true,
      "rowLimit": 10000
     },
     "inputWidgets": {},
     "nuid": "482090ea-2c04-46c1-aefe-610db0a15aff",
     "showTitle": true,
     "tableResultSettingsMap": {},
     "title": "3. PII Improvement By Source"
    },
    "jupyter": {
     "source_hidden": true
    }
   },
   "outputs": [
    {
     "output_type": "display_data",
     "data": {
      "text/html": [
       "<style scoped>\n",
       "  .table-result-container {\n",
       "    max-height: 300px;\n",
       "    overflow: auto;\n",
       "  }\n",
       "  table, th, td {\n",
       "    border: 1px solid black;\n",
       "    border-collapse: collapse;\n",
       "  }\n",
       "  th, td {\n",
       "    padding: 5px;\n",
       "  }\n",
       "  th {\n",
       "    text-align: left;\n",
       "  }\n",
       "</style><div class='table-result-container'><table class='table-result'><thead style='background-color: white'><tr><th>source</th><th>pii_known_unknown</th><th>before_cnt</th><th>after_cnt</th><th>percent_of_before</th><th>percent_of_after</th></tr></thead><tbody><tr><td>amperity_marketplace.bronze.e_commerce_customers</td><td>3. known</td><td>34,962,751</td><td>34,962,751</td><td>100.0%</td><td>100.0%</td></tr><tr><td>amperity_marketplace.bronze.loyalty_members</td><td>3. known</td><td>22,692,162</td><td>22,692,162</td><td>100.0%</td><td>100.0%</td></tr><tr><td>amperity_marketplace.bronze.pos_customers</td><td>3. known</td><td>32,711,798</td><td>32,711,798</td><td>100.0%</td><td>100.0%</td></tr><tr><td>amperity_marketplace.bronze.web_visitors</td><td>1. anonymous</td><td>7,126,300</td><td>6,282</td><td>100.0%</td><td>0.1%</td></tr><tr><td>amperity_marketplace.bronze.web_visitors</td><td>2. partial</td><td>null</td><td>6,387,327</td><td>null</td><td>89.6%</td></tr><tr><td>amperity_marketplace.bronze.web_visitors</td><td>3. known</td><td>null</td><td>732,691</td><td>null</td><td>10.3%</td></tr><tr><td>amperity_marketplace.bronze.wifi_connections</td><td>0. unknown</td><td>68,322</td><td>68,322</td><td>0.2%</td><td>0.2%</td></tr><tr><td>amperity_marketplace.bronze.wifi_connections</td><td>2. partial</td><td>41,667,318</td><td>17,021,442</td><td>99.8%</td><td>40.8%</td></tr><tr><td>amperity_marketplace.bronze.wifi_connections</td><td>3. known</td><td>null</td><td>24,645,876</td><td>null</td><td>59.1%</td></tr></tbody></table></div>"
      ]
     },
     "metadata": {
      "application/vnd.databricks.v1+output": {
       "addedWidgets": {},
       "aggData": [],
       "aggError": "",
       "aggOverflow": false,
       "aggSchema": [],
       "aggSeriesLimitReached": false,
       "aggType": "",
       "arguments": {},
       "columnCustomDisplayInfos": {},
       "data": [
        [
         "amperity_marketplace.bronze.e_commerce_customers",
         "3. known",
         "34,962,751",
         "34,962,751",
         "100.0%",
         "100.0%"
        ],
        [
         "amperity_marketplace.bronze.loyalty_members",
         "3. known",
         "22,692,162",
         "22,692,162",
         "100.0%",
         "100.0%"
        ],
        [
         "amperity_marketplace.bronze.pos_customers",
         "3. known",
         "32,711,798",
         "32,711,798",
         "100.0%",
         "100.0%"
        ],
        [
         "amperity_marketplace.bronze.web_visitors",
         "1. anonymous",
         "7,126,300",
         "6,282",
         "100.0%",
         "0.1%"
        ],
        [
         "amperity_marketplace.bronze.web_visitors",
         "2. partial",
         null,
         "6,387,327",
         null,
         "89.6%"
        ],
        [
         "amperity_marketplace.bronze.web_visitors",
         "3. known",
         null,
         "732,691",
         null,
         "10.3%"
        ],
        [
         "amperity_marketplace.bronze.wifi_connections",
         "0. unknown",
         "68,322",
         "68,322",
         "0.2%",
         "0.2%"
        ],
        [
         "amperity_marketplace.bronze.wifi_connections",
         "2. partial",
         "41,667,318",
         "17,021,442",
         "99.8%",
         "40.8%"
        ],
        [
         "amperity_marketplace.bronze.wifi_connections",
         "3. known",
         null,
         "24,645,876",
         null,
         "59.1%"
        ]
       ],
       "datasetInfos": [
        {
         "name": "_sqldf",
         "schema": {
          "fields": [
           {
            "metadata": {},
            "name": "source",
            "nullable": true,
            "type": "string"
           },
           {
            "metadata": {},
            "name": "pii_known_unknown",
            "nullable": true,
            "type": "string"
           },
           {
            "metadata": {},
            "name": "before_cnt",
            "nullable": true,
            "type": "string"
           },
           {
            "metadata": {},
            "name": "after_cnt",
            "nullable": true,
            "type": "string"
           },
           {
            "metadata": {},
            "name": "percent_of_before",
            "nullable": true,
            "type": "string"
           },
           {
            "metadata": {},
            "name": "percent_of_after",
            "nullable": true,
            "type": "string"
           }
          ],
          "type": "struct"
         },
         "tableIdentifier": null,
         "typeStr": "pyspark.sql.connect.dataframe.DataFrame"
        }
       ],
       "dbfsResultPath": null,
       "isJsonSchema": true,
       "metadata": {
        "createTempViewForImplicitDf": true,
        "dataframeName": "_sqldf",
        "executionCount": 62
       },
       "overflow": false,
       "plotOptions": {
        "customPlotOptions": {},
        "displayType": "table",
        "pivotAggregation": null,
        "pivotColumns": null,
        "xColumns": null,
        "yColumns": null
       },
       "removedWidgets": [],
       "schema": [
        {
         "metadata": "{}",
         "name": "source",
         "type": "\"string\""
        },
        {
         "metadata": "{}",
         "name": "pii_known_unknown",
         "type": "\"string\""
        },
        {
         "metadata": "{}",
         "name": "before_cnt",
         "type": "\"string\""
        },
        {
         "metadata": "{}",
         "name": "after_cnt",
         "type": "\"string\""
        },
        {
         "metadata": "{}",
         "name": "percent_of_before",
         "type": "\"string\""
        },
        {
         "metadata": "{}",
         "name": "percent_of_after",
         "type": "\"string\""
        }
       ],
       "type": "table"
      }
     },
     "output_type": "display_data"
    }
   ],
   "source": [
    "%sql\n",
    "-- First group by the Amp_ID + source to not double count Amp_IDs with 2+ records in a source.\n",
    "With source_grouping as (\n",
    "  Select source, amperity_ID\n",
    "         , Source_PII_Score, source_known_unknown\n",
    "         , cluster_PII_Score, amp_known_unknown\n",
    "  From final_View2_sql as fv\n",
    "  Group by 1, 2, 3, 4, 5, 6\n",
    ")\n",
    "\n",
    "Select coalesce(before.source, after.source) as source\n",
    "       , coalesce(row_known_unknown, amp_known_unknown) as pii_known_unknown\n",
    "       , format_number(before_cnt, 0) as before_cnt\n",
    "       , format_number(after_cnt, 0) as after_cnt \n",
    "       , concat(round(before_cnt * 100.0 / SUM(before_cnt) OVER (partition by before.source), 1), '%') AS percent_of_before\n",
    "       , concat(round(after_cnt * 100.0 / SUM(after_cnt) OVER (Partition by after.source), 1), '%') AS percent_of_after\n",
    "From (Select source, row_known_unknown, Count(*) as before_cnt from final_View2_sql Group by 1, 2) as before\n",
    "Full Join (Select source, amp_known_unknown, Count(*) as after_cnt from final_View2_sql Group by 1, 2) as after\n",
    "on before.row_known_unknown = after.amp_known_unknown\n",
    "and before.source = after.source\n",
    "order by 1, 2"
   ]
  },
  {
   "cell_type": "markdown",
   "metadata": {
    "application/vnd.databricks.v1+cell": {
     "cellMetadata": {
      "byteLimit": 2048000,
      "rowLimit": 10000
     },
     "inputWidgets": {},
     "nuid": "057832d1-a381-43c2-b8a3-5fd2d288d1a8",
     "showTitle": false,
     "tableResultSettingsMap": {},
     "title": ""
    }
   },
   "source": [
    "## VOI Report 3: ID-Res (Overlap) Across Source\n"
   ]
  },
  {
   "cell_type": "markdown",
   "metadata": {
    "application/vnd.databricks.v1+cell": {
     "cellMetadata": {
      "byteLimit": 2048000,
      "rowLimit": 10000
     },
     "inputWidgets": {},
     "nuid": "41b48f2a-5124-48e1-bd5c-2766ea661331",
     "showTitle": false,
     "tableResultSettingsMap": {},
     "title": ""
    }
   },
   "source": [
    "Now that we've looked at Identity Resolution within sources, we will next explore how Stitch has associated your records into clusters **across sources**. \n",
    "\n",
    "This is especially beneficial when there is no clear join key between two or more sources."
   ]
  },
  {
   "cell_type": "markdown",
   "metadata": {
    "application/vnd.databricks.v1+cell": {
     "cellMetadata": {
      "byteLimit": 2048000,
      "rowLimit": 10000
     },
     "inputWidgets": {},
     "nuid": "b22a7fe1-1bc2-48c7-bf4a-8483484ddc20",
     "showTitle": false,
     "tableResultSettingsMap": {},
     "title": ""
    }
   },
   "source": [
    "**Overall Cluster vs Record Consolidation**\n",
    "\n",
    "The first output shows how your overall records are consolidated and brought together through Identity Resolution. \n",
    "\n",
    "There are two stacked bar charts that show how once clusters are created, there is an overall reduction in \"individuals\". \n",
    "\n",
    "This is also an easy way to understand how many records were impacted by ID-Resolution."
   ]
  },
  {
   "cell_type": "code",
   "execution_count": 0,
   "metadata": {
    "application/vnd.databricks.v1+cell": {
     "cellMetadata": {
      "byteLimit": 2048000,
      "implicitDf": true,
      "rowLimit": 10000
     },
     "inputWidgets": {},
     "nuid": "912ff00b-d8bb-41a6-bb0a-114ea63a03d0",
     "showTitle": true,
     "tableResultSettingsMap": {},
     "title": "1. Overall Cluster vs. Record Consolidation"
    },
    "jupyter": {
     "source_hidden": true
    }
   },
   "outputs": [
    {
     "output_type": "display_data",
     "data": {
      "text/plain": [
       "Databricks visualization. Run in Databricks to view."
      ]
     },
     "metadata": {
      "application/vnd.databricks.v1.subcommand+json": {
       "baseErrorDetails": null,
       "bindings": {},
       "collapsed": false,
       "command": "%sql WITH q AS (With src_cnt as (\n  Select 'Source IDs' as source\n        , sum(record_cnt) as src_record_count\n        , sum(case when record_cnt = 1 then 1 else 0 end) as src_id_1_record\n        , sum(case when record_cnt >= 2 then record_cnt else 0 end) as src_id_2plus_records\n  From (Select Amperity_ID, count(*) as record_cnt\n     From unified_coalesced_sql\n     Group by 1\n  )\n  Group by 1\n)\n, Amp_ID_Cte as (\n  Select 'Clusters' as source, count(*) as cluster_cnt\n         , sum(case when record_count = 1 then 1 else 0 end) as cluster_1_record\n         , sum(case when record_count >= 2 then 1 else 0 end) as cluster_2plus_records\n  From (Select Amperity_ID, count(*) as record_count\n        From unified_coalesced_sql\n        Group by 1\n  )\n  Group by 1\n)\nSelect source, '1 Record Clusters' as Resolution_Type, cluster_1_record as value FROM Amp_ID_Cte\nUnion \nSelect source, '2+ Record Clusters' as Resolution_Type, cluster_2plus_records FROM Amp_ID_Cte\nUnion\nSelect src_cnt.source, '1 Record to 1 Cluster', src_id_1_record FROM src_cnt\nUNION\nSelect src_cnt.source, '2+ Records to 1 Cluster', src_id_2plus_records FROM src_cnt) SELECT `source`,`type`,SUM(`value`) `column_4b7ff3b6238` FROM q GROUP BY `source`,`type`",
       "commandTitle": "Clusters and Source ID Detailed Resolution Type",
       "commandType": "auto",
       "commandVersion": 0,
       "commentThread": [],
       "commentsVisible": false,
       "contentSha256Hex": null,
       "customPlotOptions": {
        "redashChart": [
         {
          "key": "type",
          "value": "CHART"
         },
         {
          "key": "options",
          "value": {
           "alignYAxesAtZero": true,
           "coefficient": 1,
           "columnConfigurationMap": {
            "series": {
             "column": "Resolution_Type",
             "id": "column_4b7ff3b6256"
            },
            "x": {
             "column": "source",
             "id": "column_4b7ff3b6236"
            },
            "y": [
             {
              "column": "value",
              "id": "column_4b7ff3b6238",
              "transform": "SUM"
             }
            ]
           },
           "dateTimeFormat": "DD/MM/YYYY HH:mm",
           "direction": {
            "type": "counterclockwise"
           },
           "error_y": {
            "type": "data",
            "visible": true
           },
           "globalSeriesType": "column",
           "isAggregationOn": true,
           "legend": {
            "traceorder": "normal"
           },
           "missingValuesAsZero": true,
           "numberFormat": "0,0.[00000]",
           "percentFormat": "0[.]00%",
           "series": {
            "error_y": {
             "type": "data",
             "visible": true
            },
            "stacking": "stack"
           },
           "seriesOptions": {
            "1 Record Clusters": {
             "color": "#8BCAE7"
            },
            "1 Record to 1 Cluster": {
             "color": "#919191"
            },
            "2+ Record Clusters": {
             "color": "#077A9D"
            },
            "2+ Records to 1 Cluster": {
             "color": "#BF7080"
            },
            "column_4b7ff3b6238": {
             "name": "value",
             "yAxis": 0
            }
           },
           "showDataLabels": true,
           "sizemode": "diameter",
           "sortX": true,
           "sortY": true,
           "swappedAxes": true,
           "textFormat": "",
           "useAggregationsUi": true,
           "valuesOptions": {},
           "version": 2,
           "xAxis": {
            "labels": {
             "enabled": true
            },
            "title": {
             "text": "Clusters & Source IDs"
            },
            "type": "-"
           },
           "yAxis": [
            {
             "title": {
              "text": "Count"
             },
             "type": "-"
            },
            {
             "opposite": true,
             "type": "-"
            }
           ]
          }
         }
        ]
       },
       "datasetPreviewNameToCmdIdMap": {},
       "diffDeletes": [],
       "diffInserts": [],
       "displayType": "redashChart",
       "error": null,
       "errorDetails": null,
       "errorSummary": null,
       "errorTraceType": null,
       "finishTime": 0,
       "globalVars": {},
       "guid": "",
       "height": "auto",
       "hideCommandCode": false,
       "hideCommandResult": false,
       "iPythonMetadata": null,
       "inputWidgets": {},
       "isLockedInExamMode": false,
       "latestUser": "a user",
       "latestUserId": null,
       "listResultMetadata": null,
       "metadata": {
        "byteLimit": 2048000,
        "implicitDf": true,
        "rowLimit": 10000
       },
       "nuid": "f97ec978-bd68-41e4-9b51-a8742f0425b3",
       "origId": 0,
       "parentHierarchy": [],
       "pivotAggregation": null,
       "pivotColumns": null,
       "position": -1.0,
       "resultDbfsErrorMessage": null,
       "resultDbfsStatus": "INLINED_IN_TREE",
       "results": null,
       "showCommandTitle": false,
       "startTime": 0,
       "state": "finished",
       "streamStates": {},
       "subcommandOptions": {
        "queryPlan": {
         "groups": [
          {
           "column": "source",
           "type": "column"
          },
          {
           "column": "Resolution_Type",
           "type": "column"
          }
         ],
         "selects": [
          {
           "column": "source",
           "type": "column"
          },
          {
           "column": "Resolution_Type",
           "type": "column"
          },
          {
           "alias": "column_4b7ff3b6238",
           "args": [
            {
             "column": "value",
             "type": "column"
            }
           ],
           "function": "SUM",
           "type": "function"
          }
         ]
        }
       },
       "submitTime": 0,
       "subtype": "tableResultSubCmd.visualization",
       "tableResultIndex": 0,
       "tableResultSettingsMap": {},
       "useConsistentColors": false,
       "version": "CommandV1",
       "width": "auto",
       "workflows": [],
       "xColumns": null,
       "yColumns": null
      }
     },
     "output_type": "display_data"
    },
    {
     "output_type": "display_data",
     "data": {
      "text/html": [
       "<style scoped>\n",
       "  .table-result-container {\n",
       "    max-height: 300px;\n",
       "    overflow: auto;\n",
       "  }\n",
       "  table, th, td {\n",
       "    border: 1px solid black;\n",
       "    border-collapse: collapse;\n",
       "  }\n",
       "  th, td {\n",
       "    padding: 5px;\n",
       "  }\n",
       "  th {\n",
       "    text-align: left;\n",
       "  }\n",
       "</style><div class='table-result-container'><table class='table-result'><thead style='background-color: white'><tr><th>source</th><th>Resolution_Type</th><th>value</th></tr></thead><tbody><tr><td>Clusters</td><td>1 Record Clusters</td><td>47935283</td></tr><tr><td>Source IDs</td><td>1 Record to 1 Cluster</td><td>47935283</td></tr><tr><td>Source IDs</td><td>2+ Records to 1 Cluster</td><td>91293368</td></tr><tr><td>Clusters</td><td>2+ Record Clusters</td><td>31773709</td></tr></tbody></table></div>"
      ]
     },
     "metadata": {
      "application/vnd.databricks.v1+output": {
       "addedWidgets": {},
       "aggData": [],
       "aggError": "",
       "aggOverflow": false,
       "aggSchema": [],
       "aggSeriesLimitReached": false,
       "aggType": "",
       "arguments": {},
       "columnCustomDisplayInfos": {},
       "data": [
        [
         "Clusters",
         "1 Record Clusters",
         47935283
        ],
        [
         "Source IDs",
         "1 Record to 1 Cluster",
         47935283
        ],
        [
         "Source IDs",
         "2+ Records to 1 Cluster",
         91293368
        ],
        [
         "Clusters",
         "2+ Record Clusters",
         31773709
        ]
       ],
       "datasetInfos": [
        {
         "name": "_sqldf",
         "schema": {
          "fields": [
           {
            "metadata": {},
            "name": "source",
            "nullable": false,
            "type": "string"
           },
           {
            "metadata": {},
            "name": "Resolution_Type",
            "nullable": false,
            "type": "string"
           },
           {
            "metadata": {},
            "name": "value",
            "nullable": true,
            "type": "long"
           }
          ],
          "type": "struct"
         },
         "tableIdentifier": null,
         "typeStr": "pyspark.sql.connect.dataframe.DataFrame"
        }
       ],
       "dbfsResultPath": null,
       "isJsonSchema": true,
       "metadata": {
        "createTempViewForImplicitDf": true,
        "dataframeName": "_sqldf",
        "executionCount": 18
       },
       "overflow": false,
       "plotOptions": {
        "customPlotOptions": {},
        "displayType": "table",
        "pivotAggregation": null,
        "pivotColumns": null,
        "xColumns": null,
        "yColumns": null
       },
       "removedWidgets": [],
       "schema": [
        {
         "metadata": "{}",
         "name": "source",
         "type": "\"string\""
        },
        {
         "metadata": "{}",
         "name": "Resolution_Type",
         "type": "\"string\""
        },
        {
         "metadata": "{}",
         "name": "value",
         "type": "\"long\""
        }
       ],
       "type": "table"
      }
     },
     "output_type": "display_data"
    }
   ],
   "source": [
    "%sql\n",
    "With src_cnt as (\n",
    "  Select 'Source IDs' as source\n",
    "        , sum(record_cnt) as src_record_count\n",
    "        , sum(case when record_cnt = 1 then 1 else 0 end) as src_id_1_record\n",
    "        , sum(case when record_cnt >= 2 then record_cnt else 0 end) as src_id_2plus_records\n",
    "  From (Select Amperity_ID, count(*) as record_cnt\n",
    "     From unified_coalesced_sql\n",
    "     Group by 1\n",
    "  )\n",
    "  Group by 1\n",
    ")\n",
    ", Amp_ID_Cte as (\n",
    "  Select 'Clusters' as source, count(*) as cluster_cnt\n",
    "         , sum(case when record_count = 1 then 1 else 0 end) as cluster_1_record\n",
    "         , sum(case when record_count >= 2 then 1 else 0 end) as cluster_2plus_records\n",
    "  From (Select Amperity_ID, count(*) as record_count\n",
    "        From unified_coalesced_sql\n",
    "        Group by 1\n",
    "  )\n",
    "  Group by 1\n",
    ")\n",
    "Select source, '1 Record Clusters' as Resolution_Type, cluster_1_record as value FROM Amp_ID_Cte\n",
    "Union \n",
    "Select source, '2+ Record Clusters' as Resolution_Type, cluster_2plus_records FROM Amp_ID_Cte\n",
    "Union\n",
    "Select src_cnt.source, '1 Record to 1 Cluster', src_id_1_record FROM src_cnt\n",
    "UNION\n",
    "Select src_cnt.source, '2+ Records to 1 Cluster', src_id_2plus_records FROM src_cnt"
   ]
  },
  {
   "cell_type": "markdown",
   "metadata": {
    "application/vnd.databricks.v1+cell": {
     "cellMetadata": {
      "byteLimit": 2048000,
      "rowLimit": 10000
     },
     "inputWidgets": {},
     "nuid": "bb05814b-6d72-4399-8819-0c97091ff4c8",
     "showTitle": false,
     "tableResultSettingsMap": {},
     "title": ""
    }
   },
   "source": [
    "**De-Duper by # of Sources in a Cluster**\n",
    "\n",
    "In the following output we focus in on understanding how many sources are being brought together by Identity Resolution.\n",
    "\n",
    "This visuals shows what # of clusters are composed of 1, 2, 3, 4, and 5+ sources."
   ]
  },
  {
   "cell_type": "code",
   "execution_count": 0,
   "metadata": {
    "application/vnd.databricks.v1+cell": {
     "cellMetadata": {
      "byteLimit": 2048000,
      "implicitDf": true,
      "rowLimit": 10000
     },
     "inputWidgets": {},
     "nuid": "6f6438ad-bd75-4947-baed-b74f275a613f",
     "showTitle": true,
     "tableResultSettingsMap": {},
     "title": "# Of Sources in a Cluster"
    },
    "jupyter": {
     "source_hidden": true
    }
   },
   "outputs": [
    {
     "output_type": "display_data",
     "data": {
      "text/plain": [
       "Databricks visualization. Run in Databricks to view."
      ]
     },
     "metadata": {
      "application/vnd.databricks.v1.subcommand+json": {
       "baseErrorDetails": null,
       "bindings": {},
       "collapsed": false,
       "command": "%sql WITH q AS (With cte_1 as (\n        Select Amperity_ID\n                  , count(distinct(source)) as source_count\n                  , count(*) as record_count\n        From unified_coalesced_sql\n        Group by 1\n    )\nSelect \n        case when source_count = 1 then '1 Source'\n             when source_count = 2 then '2 Sources'\n             when source_count = 3 then '3 Sources'\n             when source_count = 4 then '4 Sources'\n             when source_count >= 5 then '5+ Sources'\n             Else 'Check'\n         End as number_of_sources\n        , count(*) as amp_ids\n        , sum(record_count) as source_count\n        , sum(case when record_count > source_count then 1 else 0 end) as intra_source_dupe_count\nFrom cte_1\nGroup by 1\norder by 1) SELECT `number_of_sources`,SUM(`amp_ids`) `column_4b7ff3b6262` FROM q GROUP BY `number_of_sources`",
       "commandTitle": "How Many Sources Are Combined In Clusters By ID-Res",
       "commandType": "auto",
       "commandVersion": 0,
       "commentThread": [],
       "commentsVisible": false,
       "contentSha256Hex": null,
       "customPlotOptions": {
        "redashChart": [
         {
          "key": "type",
          "value": "CHART"
         },
         {
          "key": "options",
          "value": {
           "alignYAxesAtZero": true,
           "coefficient": 1,
           "columnConfigurationMap": {
            "x": {
             "column": "number_of_sources",
             "id": "column_4b7ff3b6260"
            },
            "y": [
             {
              "column": "amp_ids",
              "id": "column_4b7ff3b6262",
              "transform": "SUM"
             }
            ]
           },
           "dateTimeFormat": "DD/MM/YYYY HH:mm",
           "direction": {
            "type": "counterclockwise"
           },
           "error_y": {
            "type": "data",
            "visible": true
           },
           "globalSeriesType": "column",
           "isAggregationOn": true,
           "legend": {
            "traceorder": "normal"
           },
           "missingValuesAsZero": true,
           "numberFormat": "0,0.[00000]",
           "percentFormat": "0[.]00%",
           "series": {
            "error_y": {
             "type": "data",
             "visible": true
            },
            "stacking": null
           },
           "seriesOptions": {
            "column_4b7ff3b6262": {
             "type": "column",
             "yAxis": 0
            }
           },
           "showDataLabels": true,
           "sizemode": "diameter",
           "sortX": true,
           "sortY": true,
           "swappedAxes": false,
           "textFormat": "",
           "useAggregationsUi": true,
           "valuesOptions": {
            "1 Source": {
             "color": "#919191"
            }
           },
           "version": 2,
           "xAxis": {
            "labels": {
             "enabled": true
            },
            "title": {
             "text": "Number of Sources In Cluster"
            },
            "type": "-"
           },
           "yAxis": [
            {
             "title": {
              "text": "Cluster Count"
             },
             "type": "-"
            },
            {
             "opposite": true,
             "type": "-"
            }
           ]
          }
         }
        ]
       },
       "datasetPreviewNameToCmdIdMap": {},
       "diffDeletes": [],
       "diffInserts": [],
       "displayType": "redashChart",
       "error": null,
       "errorDetails": null,
       "errorSummary": null,
       "errorTraceType": null,
       "finishTime": 0,
       "globalVars": {},
       "guid": "",
       "height": "auto",
       "hideCommandCode": false,
       "hideCommandResult": false,
       "iPythonMetadata": null,
       "inputWidgets": {},
       "isLockedInExamMode": false,
       "latestUser": "a user",
       "latestUserId": null,
       "listResultMetadata": null,
       "metadata": {},
       "nuid": "edfdc668-a58e-4b51-8fd2-31f5d3362994",
       "origId": 0,
       "parentHierarchy": [],
       "pivotAggregation": null,
       "pivotColumns": null,
       "position": -1.0,
       "resultDbfsErrorMessage": null,
       "resultDbfsStatus": "INLINED_IN_TREE",
       "results": null,
       "showCommandTitle": false,
       "startTime": 0,
       "state": "input",
       "streamStates": {},
       "subcommandOptions": {
        "queryPlan": {
         "groups": [
          {
           "column": "number_of_sources",
           "type": "column"
          }
         ],
         "selects": [
          {
           "column": "number_of_sources",
           "type": "column"
          },
          {
           "alias": "column_4b7ff3b6262",
           "args": [
            {
             "column": "amp_ids",
             "type": "column"
            }
           ],
           "function": "SUM",
           "type": "function"
          }
         ]
        }
       },
       "submitTime": 0,
       "subtype": "tableResultSubCmd.visualization",
       "tableResultIndex": 0,
       "tableResultSettingsMap": {},
       "useConsistentColors": false,
       "version": "CommandV1",
       "width": "auto",
       "workflows": [],
       "xColumns": null,
       "yColumns": null
      }
     },
     "output_type": "display_data"
    },
    {
     "output_type": "display_data",
     "data": {
      "text/html": [
       "<style scoped>\n",
       "  .table-result-container {\n",
       "    max-height: 300px;\n",
       "    overflow: auto;\n",
       "  }\n",
       "  table, th, td {\n",
       "    border: 1px solid black;\n",
       "    border-collapse: collapse;\n",
       "  }\n",
       "  th, td {\n",
       "    padding: 5px;\n",
       "  }\n",
       "  th {\n",
       "    text-align: left;\n",
       "  }\n",
       "</style><div class='table-result-container'><table class='table-result'><thead style='background-color: white'><tr><th>number_of_sources</th><th>amp_ids</th><th>source_count</th><th>intra_source_dupe_count</th></tr></thead><tbody><tr><td>1 Source</td><td>49961590</td><td>52274346</td><td>2026307</td></tr><tr><td>2 Sources</td><td>9675546</td><td>20894137</td><td>986313</td></tr><tr><td>3 Sources</td><td>18348691</td><td>57294238</td><td>1774439</td></tr><tr><td>4 Sources</td><td>1603943</td><td>7450128</td><td>425303</td></tr><tr><td>5+ Sources</td><td>119222</td><td>1315802</td><td>116889</td></tr></tbody></table></div>"
      ]
     },
     "metadata": {
      "application/vnd.databricks.v1+output": {
       "addedWidgets": {},
       "aggData": [],
       "aggError": "",
       "aggOverflow": false,
       "aggSchema": [],
       "aggSeriesLimitReached": false,
       "aggType": "",
       "arguments": {},
       "columnCustomDisplayInfos": {},
       "data": [
        [
         "1 Source",
         49961590,
         52274346,
         2026307
        ],
        [
         "2 Sources",
         9675546,
         20894137,
         986313
        ],
        [
         "3 Sources",
         18348691,
         57294238,
         1774439
        ],
        [
         "4 Sources",
         1603943,
         7450128,
         425303
        ],
        [
         "5+ Sources",
         119222,
         1315802,
         116889
        ]
       ],
       "datasetInfos": [
        {
         "name": "_sqldf",
         "schema": {
          "fields": [
           {
            "metadata": {},
            "name": "number_of_sources",
            "nullable": false,
            "type": "string"
           },
           {
            "metadata": {},
            "name": "amp_ids",
            "nullable": false,
            "type": "long"
           },
           {
            "metadata": {},
            "name": "source_count",
            "nullable": true,
            "type": "long"
           },
           {
            "metadata": {},
            "name": "intra_source_dupe_count",
            "nullable": true,
            "type": "long"
           }
          ],
          "type": "struct"
         },
         "tableIdentifier": null,
         "typeStr": "pyspark.sql.connect.dataframe.DataFrame"
        }
       ],
       "dbfsResultPath": null,
       "isJsonSchema": true,
       "metadata": {
        "createTempViewForImplicitDf": true,
        "dataframeName": "_sqldf",
        "executionCount": 19
       },
       "overflow": false,
       "plotOptions": {
        "customPlotOptions": {},
        "displayType": "table",
        "pivotAggregation": null,
        "pivotColumns": null,
        "xColumns": null,
        "yColumns": null
       },
       "removedWidgets": [],
       "schema": [
        {
         "metadata": "{}",
         "name": "number_of_sources",
         "type": "\"string\""
        },
        {
         "metadata": "{}",
         "name": "amp_ids",
         "type": "\"long\""
        },
        {
         "metadata": "{}",
         "name": "source_count",
         "type": "\"long\""
        },
        {
         "metadata": "{}",
         "name": "intra_source_dupe_count",
         "type": "\"long\""
        }
       ],
       "type": "table"
      }
     },
     "output_type": "display_data"
    }
   ],
   "source": [
    "%sql\n",
    " With cte_1 as (\n",
    "        Select Amperity_ID\n",
    "                  , count(distinct(source)) as source_count\n",
    "                  , count(*) as record_count\n",
    "        From unified_coalesced_sql\n",
    "        Group by 1\n",
    "    )\n",
    "Select --concat(cast(source_count as string), ' Source') as number_of_sources\n",
    "        case when source_count = 1 then '1 Source'\n",
    "             when source_count = 2 then '2 Sources'\n",
    "             when source_count = 3 then '3 Sources'\n",
    "             when source_count = 4 then '4 Sources'\n",
    "             when source_count >= 5 then '5+ Sources'\n",
    "             Else 'Check'\n",
    "         End as number_of_sources\n",
    "        , count(*) as amp_ids\n",
    "        , sum(record_count) as source_count\n",
    "        , sum(case when record_count > source_count then 1 else 0 end) as intra_source_dupe_count\n",
    "From cte_1\n",
    "Group by 1\n",
    "order by 1"
   ]
  },
  {
   "cell_type": "markdown",
   "metadata": {
    "application/vnd.databricks.v1+cell": {
     "cellMetadata": {
      "byteLimit": 2048000,
      "rowLimit": 10000
     },
     "inputWidgets": {},
     "nuid": "5d85afa0-f2f7-4bfb-b449-03a2ce4ec601",
     "showTitle": false,
     "tableResultSettingsMap": {},
     "title": ""
    }
   },
   "source": [
    "**Source Overlap**\n",
    "\n",
    "Next, we want to dive into this concept of source overlap!\n",
    "\n",
    "First, in cell 41, select 3 sources you'd like to analyze how they overlap. By default, the notebook will choose top 3 sources by record count. \n",
    "\n",
    "Next, the venn-diagram in cell 42 will show the overlap of records in those 3 sources.\n",
    "\n",
    "_Please note, if you select specific sources, please list them in **alphabetical order** for this to run successfully._"
   ]
  },
  {
   "cell_type": "code",
   "execution_count": 0,
   "metadata": {
    "application/vnd.databricks.v1+cell": {
     "cellMetadata": {
      "byteLimit": 2048000,
      "rowLimit": 10000
     },
     "inputWidgets": {},
     "nuid": "ac6d0f54-58cd-4983-aa29-e1410372dafd",
     "showTitle": true,
     "tableResultSettingsMap": {},
     "title": "Install matplotlib_venn"
    },
    "jupyter": {
     "outputs_hidden": true,
     "source_hidden": true
    }
   },
   "outputs": [
    {
     "output_type": "stream",
     "name": "stdout",
     "output_type": "stream",
     "text": [
      "Requirement already satisfied: matplotlib in /databricks/python3/lib/python3.11/site-packages (3.7.2)\nRequirement already satisfied: matplotlib-venn in /local_disk0/.ephemeral_nfs/envs/pythonEnv-7c04b2e2-fcb6-4758-ae50-90c91cf00cb0/lib/python3.11/site-packages (1.1.2)\nRequirement already satisfied: contourpy>=1.0.1 in /databricks/python3/lib/python3.11/site-packages (from matplotlib) (1.0.5)\nRequirement already satisfied: cycler>=0.10 in /databricks/python3/lib/python3.11/site-packages (from matplotlib) (0.11.0)\nRequirement already satisfied: fonttools>=4.22.0 in /databricks/python3/lib/python3.11/site-packages (from matplotlib) (4.25.0)\nRequirement already satisfied: kiwisolver>=1.0.1 in /databricks/python3/lib/python3.11/site-packages (from matplotlib) (1.4.4)\nRequirement already satisfied: numpy>=1.20 in /databricks/python3/lib/python3.11/site-packages (from matplotlib) (1.23.5)\nRequirement already satisfied: packaging>=20.0 in /databricks/python3/lib/python3.11/site-packages (from matplotlib) (23.2)\nRequirement already satisfied: pillow>=6.2.0 in /databricks/python3/lib/python3.11/site-packages (from matplotlib) (10.3.0)\nRequirement already satisfied: pyparsing<3.1,>=2.3.1 in /databricks/python3/lib/python3.11/site-packages (from matplotlib) (3.0.9)\nRequirement already satisfied: python-dateutil>=2.7 in /databricks/python3/lib/python3.11/site-packages (from matplotlib) (2.8.2)\nRequirement already satisfied: scipy in /databricks/python3/lib/python3.11/site-packages (from matplotlib-venn) (1.11.1)\nRequirement already satisfied: six>=1.5 in /usr/lib/python3/dist-packages (from python-dateutil>=2.7->matplotlib) (1.16.0)\n\u001B[43mNote: you may need to restart the kernel using %restart_python or dbutils.library.restartPython() to use updated packages.\u001B[0m\n"
     ]
    }
   ],
   "source": [
    "%pip install matplotlib matplotlib-venn\n",
    "import matplotlib.pyplot as plt\n",
    "from matplotlib_venn import venn2\n",
    "from matplotlib_venn import venn3"
   ]
  },
  {
   "cell_type": "code",
   "execution_count": 0,
   "metadata": {
    "application/vnd.databricks.v1+cell": {
     "cellMetadata": {
      "byteLimit": 2048000,
      "rowLimit": 10000
     },
     "inputWidgets": {},
     "nuid": "c7628348-7260-439d-bd43-4348592c3ddf",
     "showTitle": true,
     "tableResultSettingsMap": {},
     "title": "Configure Sources for Venn Diagram (Optional Edit)"
    }
   },
   "outputs": [],
   "source": [
    "top_sources_df = spark.sql(\"\"\"\n",
    "  With top_3_sources as (\n",
    "    SELECT source, COUNT(*) as record_count\n",
    "    FROM unified_coalesced_sql\n",
    "    GROUP BY 1\n",
    "    ORDER BY 2 DESC\n",
    "    LIMIT 3\n",
    "  )\n",
    "  Select source from top_3_sources order by 1\n",
    "\"\"\")\n",
    "\n",
    "top_sources = [row['source'] for row in top_sources_df.collect()]\n",
    "\n",
    "# Set the 3 sources to the top 3 sources by record count\n",
    "source_1, source_2, source_3 = (top_sources + [None, None, None])[:3]\n",
    "\n",
    "\n",
    "# USER EDIT HERE (Optional) #\n",
    "# This will overwrite the sources set above\n",
    "# THESE NEED TO BE IN ALPHABETICAL ORDER #\n",
    "\n",
    "# source_1 = 'App'\n",
    "# source_2 = 'NFL Fan View'\n",
    "# source_3 = 'Oracle CRM'"
   ]
  },
  {
   "cell_type": "code",
   "execution_count": 0,
   "metadata": {
    "application/vnd.databricks.v1+cell": {
     "cellMetadata": {
      "byteLimit": 2048000,
      "rowLimit": 10000
     },
     "inputWidgets": {},
     "nuid": "11782967-b658-4cdc-8016-a579261d9ab3",
     "showTitle": true,
     "tableResultSettingsMap": {},
     "title": "3. Venn Diagram of Overlap"
    },
    "jupyter": {
     "source_hidden": true
    }
   },
   "outputs": [
    {
     "output_type": "display_data",
     "data": {
      "text/html": [
       "<style scoped>\n",
       "  .table-result-container {\n",
       "    max-height: 300px;\n",
       "    overflow: auto;\n",
       "  }\n",
       "  table, th, td {\n",
       "    border: 1px solid black;\n",
       "    border-collapse: collapse;\n",
       "  }\n",
       "  th, td {\n",
       "    padding: 5px;\n",
       "  }\n",
       "  th {\n",
       "    text-align: left;\n",
       "  }\n",
       "</style><div class='table-result-container'><table class='table-result'><thead style='background-color: white'><tr><th>venn_diagram_groups</th><th>cnt</th></tr></thead><tbody><tr><td>amperity_marketplace.bronze.e_commerce_customers</td><td>8853339</td></tr><tr><td>amperity_marketplace.bronze.e_commerce_customers, amperity_marketplace.bronze.pos_customers</td><td>441076</td></tr><tr><td>amperity_marketplace.bronze.e_commerce_customers, amperity_marketplace.bronze.pos_customers, amperity_marketplace.bronze.wifi_connections</td><td>1751915</td></tr><tr><td>amperity_marketplace.bronze.e_commerce_customers, amperity_marketplace.bronze.wifi_connections</td><td>20847910</td></tr><tr><td>amperity_marketplace.bronze.pos_customers</td><td>28150712</td></tr><tr><td>amperity_marketplace.bronze.pos_customers, amperity_marketplace.bronze.wifi_connections</td><td>531373</td></tr><tr><td>amperity_marketplace.bronze.wifi_connections</td><td>16371400</td></tr></tbody></table></div>"
      ]
     },
     "metadata": {
      "application/vnd.databricks.v1+output": {
       "addedWidgets": {},
       "aggData": [],
       "aggError": "",
       "aggOverflow": false,
       "aggSchema": [],
       "aggSeriesLimitReached": false,
       "aggType": "",
       "arguments": {},
       "columnCustomDisplayInfos": {},
       "data": [
        [
         "amperity_marketplace.bronze.e_commerce_customers",
         8853339
        ],
        [
         "amperity_marketplace.bronze.e_commerce_customers, amperity_marketplace.bronze.pos_customers",
         441076
        ],
        [
         "amperity_marketplace.bronze.e_commerce_customers, amperity_marketplace.bronze.pos_customers, amperity_marketplace.bronze.wifi_connections",
         1751915
        ],
        [
         "amperity_marketplace.bronze.e_commerce_customers, amperity_marketplace.bronze.wifi_connections",
         20847910
        ],
        [
         "amperity_marketplace.bronze.pos_customers",
         28150712
        ],
        [
         "amperity_marketplace.bronze.pos_customers, amperity_marketplace.bronze.wifi_connections",
         531373
        ],
        [
         "amperity_marketplace.bronze.wifi_connections",
         16371400
        ]
       ],
       "datasetInfos": [],
       "dbfsResultPath": null,
       "isJsonSchema": true,
       "metadata": {},
       "overflow": false,
       "plotOptions": {
        "customPlotOptions": {},
        "displayType": "table",
        "pivotAggregation": null,
        "pivotColumns": null,
        "xColumns": null,
        "yColumns": null
       },
       "removedWidgets": [],
       "schema": [
        {
         "metadata": "{}",
         "name": "venn_diagram_groups",
         "type": "\"string\""
        },
        {
         "metadata": "{}",
         "name": "cnt",
         "type": "\"long\""
        }
       ],
       "type": "table"
      }
     },
     "output_type": "display_data"
    },
    {
     "output_type": "stream",
     "name": "stdout",
     "output_type": "stream",
     "text": [
      "(8853339, 28150712, 441076, 16371400, 20847910, 531373, 1751915)\n"
     ]
    },
    {
     "output_type": "display_data",
     "data": {
      "image/png": "[encoded data removed]",
      "text/plain": [
       "<Figure size 800x800 with 1 Axes>"
      ]
     },
     "metadata": {},
     "output_type": "display_data"
    }
   ],
   "source": [
    "%py \n",
    "\n",
    "#Auto generate permutations\n",
    "s1_2 = ', '.join([source_1, source_2])\n",
    "s1_3 = ', '.join([source_1, source_3])\n",
    "s2_3 = ', '.join([source_2, source_3])\n",
    "s1_2_3 = ', '.join([source_1, source_2, source_3])\n",
    "\n",
    "sql_source_template = \"\"\"\n",
    "    With cte_1 as (\n",
    "        Select Amperity_ID\n",
    "                 , source as venn_diagram_source_mapping\n",
    "        From unified_coalesced_sql as uc\n",
    "        Where source in ('{source_1}', '{source_2}', '{source_3}')\n",
    "        Group by 1, 2\n",
    "        Order by 1, 2\n",
    "    )\n",
    "    , cte_2 as (\n",
    "        Select Amperity_ID\n",
    "                 , array_join(sort_array(collect_set(venn_diagram_source_mapping)), ', ') AS venn_diagram_groups\n",
    "        From CTE_1 \n",
    "        Group by 1\n",
    "    )\n",
    "    Select venn_diagram_groups, count(*) as cnt from cte_2 group by 1 order by 1 limit 1000\n",
    "    --Select * from cte_1 order by 2 limit 100\n",
    "\"\"\"\n",
    "\n",
    "sql_query = sql_source_template.format(\n",
    "    source_1=source_1,\n",
    "    source_2=source_2,\n",
    "    source_3=source_3\n",
    ")\n",
    "\n",
    "spark.sql(sql_query).display()\n",
    "df_pd = spark.sql(sql_query).toPandas()\n",
    "\n",
    "group_counts = dict(zip(df_pd['venn_diagram_groups'], df_pd['cnt']))\n",
    "\n",
    "def get(key):\n",
    "    return group_counts.get(key, 0)\n",
    "\n",
    "venn_counts = (\n",
    "    get(source_1), # A only\n",
    "    get(source_2),          # B only\n",
    "    get(s1_2),   # A ∩ B\n",
    "    get(source_3),          # C only\n",
    "    get(s1_3),       # A ∩ C\n",
    "    get(s2_3),       # B ∩ C\n",
    "    get(s1_2_3)     # A ∩ B ∩ C\n",
    ")\n",
    "\n",
    "print(venn_counts)\n",
    "\n",
    "plt.figure(figsize=(8, 8))\n",
    "\n",
    "# Create the Venn diagram and capture the object\n",
    "venn_obj = venn3(subsets=venn_counts, set_labels=(source_1, source_2, source_3))\n",
    "\n",
    "# Format each label with comma separators\n",
    "for subset_label in venn_obj.subset_labels:\n",
    "    if subset_label:  # skip empty/None regions\n",
    "        val = subset_label.get_text()\n",
    "        if val and val.isdigit():\n",
    "            subset_label.set_text(f\"{int(val):,}\")\n",
    "\n",
    "plt.title(\"How Does Stitch Bring Together My Customers in Various Datasources\")\n",
    "plt.show()"
   ]
  },
  {
   "cell_type": "markdown",
   "metadata": {
    "application/vnd.databricks.v1+cell": {
     "cellMetadata": {
      "byteLimit": 2048000,
      "rowLimit": 10000
     },
     "inputWidgets": {},
     "nuid": "9dbeff4d-525e-48dd-8793-c406fc6fe1e2",
     "showTitle": false,
     "tableResultSettingsMap": {},
     "title": ""
    }
   },
   "source": [
    "**Records Overlap Between Each Combination of Sources**\n",
    "\n",
    "Lastly, let's review how many records are overlapping for each combination of sources across all sources.\n",
    "\n",
    "_Please disregard the total calculations row and column as they do not apply to the purpose of this visual._"
   ]
  },
  {
   "cell_type": "code",
   "execution_count": 0,
   "metadata": {
    "application/vnd.databricks.v1+cell": {
     "cellMetadata": {
      "byteLimit": 2048000,
      "implicitDf": true,
      "rowLimit": 10000
     },
     "inputWidgets": {},
     "nuid": "34627e62-1a3b-4fc1-8f57-eb68338cdf2d",
     "showTitle": true,
     "tableResultSettingsMap": {},
     "title": "4. How Many Records Overlap Between Each Combination of Sources"
    },
    "jupyter": {
     "source_hidden": true
    }
   },
   "outputs": [
    {
     "output_type": "display_data",
     "data": {
      "text/plain": [
       "Databricks visualization. Run in Databricks to view."
      ]
     },
     "metadata": {
      "application/vnd.databricks.v1.subcommand+json": {
       "baseErrorDetails": null,
       "bindings": {},
       "collapsed": false,
       "command": "%sql WITH q AS (With amp_and_source_cte as (\n  Select Amperity_ID, source\n  From unified_coalesced_sql\n  Group by 1, 2\n)\n\n, cte_2 as (\n  Select s1.Amperity_ID, s1.source as source_1, s2.source as source_2\n  FROM amp_and_source_cte as s1\n  Full Join amp_and_source_cte as s2\n  on s1.Amperity_ID = s2.Amperity_ID\n  \n)\nSelect source_1, source_2, count(*)  as cnt\nFROM cte_2\nWhere 1=1\n  And source_1 <> source_2\nGroup by 1, 2\norder by 1, 2) SELECT `source_1`,`source_2`,SUM(`cnt`) `cnt_alias` FROM q GROUP BY `source_1`,`source_2` ORDER BY `source_1` ASC,`source_2` ASC",
       "commandTitle": "Overlap Between Sources",
       "commandType": "auto",
       "commandVersion": 0,
       "commentThread": [],
       "commentsVisible": false,
       "contentSha256Hex": null,
       "customPlotOptions": {
        "redashChart": [
         {
          "key": "type",
          "value": "PIVOT_TABLE"
         },
         {
          "key": "options",
          "value": {
           "cell": {
            "field": "cnt",
            "transform": {
             "fn": "sum"
            }
           },
           "cellNumberFormat": ",",
           "colorCellsByValue": true,
           "columns": [
            {
             "field": "source_2",
             "sort": "ascending"
            }
           ],
           "rows": [
            {
             "field": "source_1",
             "sort": "ascending"
            }
           ]
          }
         }
        ]
       },
       "datasetPreviewNameToCmdIdMap": {},
       "diffDeletes": [],
       "diffInserts": [],
       "displayType": "redashChart",
       "error": null,
       "errorDetails": null,
       "errorSummary": null,
       "errorTraceType": null,
       "finishTime": 0,
       "globalVars": {},
       "guid": "",
       "height": "auto",
       "hideCommandCode": false,
       "hideCommandResult": false,
       "iPythonMetadata": null,
       "inputWidgets": {},
       "isLockedInExamMode": false,
       "latestUser": "a user",
       "latestUserId": null,
       "listResultMetadata": null,
       "metadata": {},
       "nuid": "008ce031-a59c-4d34-b361-9f343b6f8322",
       "origId": 0,
       "parentHierarchy": [],
       "pivotAggregation": null,
       "pivotColumns": null,
       "position": -1.0,
       "resultDbfsErrorMessage": null,
       "resultDbfsStatus": "INLINED_IN_TREE",
       "results": null,
       "showCommandTitle": false,
       "startTime": 0,
       "state": "input",
       "streamStates": {},
       "subcommandOptions": {
        "queryPlan": {
         "groups": [
          {
           "column": "source_1",
           "type": "column"
          },
          {
           "column": "source_2",
           "type": "column"
          }
         ],
         "order_by": [
          {
           "direction": "asc",
           "expression": {
            "identifier": "source_1",
            "kind": "identifier"
           }
          },
          {
           "direction": "asc",
           "expression": {
            "identifier": "source_2",
            "kind": "identifier"
           }
          }
         ],
         "selects": [
          {
           "column": "source_1",
           "type": "column"
          },
          {
           "column": "source_2",
           "type": "column"
          },
          {
           "alias": "cnt_alias",
           "args": [
            {
             "column": "cnt",
             "type": "column"
            }
           ],
           "function": "SUM",
           "type": "function"
          }
         ]
        }
       },
       "submitTime": 0,
       "subtype": "tableResultSubCmd.visualization",
       "tableResultIndex": 0,
       "tableResultSettingsMap": {},
       "useConsistentColors": false,
       "version": "CommandV1",
       "width": "auto",
       "workflows": [],
       "xColumns": null,
       "yColumns": null
      }
     },
     "output_type": "display_data"
    },
    {
     "output_type": "display_data",
     "data": {
      "text/html": [
       "<style scoped>\n",
       "  .table-result-container {\n",
       "    max-height: 300px;\n",
       "    overflow: auto;\n",
       "  }\n",
       "  table, th, td {\n",
       "    border: 1px solid black;\n",
       "    border-collapse: collapse;\n",
       "  }\n",
       "  th, td {\n",
       "    padding: 5px;\n",
       "  }\n",
       "  th {\n",
       "    text-align: left;\n",
       "  }\n",
       "</style><div class='table-result-container'><table class='table-result'><thead style='background-color: white'><tr><th>source_1</th><th>source_2</th><th>cnt</th></tr></thead><tbody><tr><td>amperity_marketplace.bronze.e_commerce_customers</td><td>amperity_marketplace.bronze.loyalty_members</td><td>19593140</td></tr><tr><td>amperity_marketplace.bronze.e_commerce_customers</td><td>amperity_marketplace.bronze.pos_customers</td><td>2192991</td></tr><tr><td>amperity_marketplace.bronze.e_commerce_customers</td><td>amperity_marketplace.bronze.web_visitors</td><td>418183</td></tr><tr><td>amperity_marketplace.bronze.e_commerce_customers</td><td>amperity_marketplace.bronze.wifi_connections</td><td>22599825</td></tr><tr><td>amperity_marketplace.bronze.loyalty_members</td><td>amperity_marketplace.bronze.e_commerce_customers</td><td>19593140</td></tr><tr><td>amperity_marketplace.bronze.loyalty_members</td><td>amperity_marketplace.bronze.pos_customers</td><td>1561157</td></tr><tr><td>amperity_marketplace.bronze.loyalty_members</td><td>amperity_marketplace.bronze.web_visitors</td><td>322036</td></tr><tr><td>amperity_marketplace.bronze.loyalty_members</td><td>amperity_marketplace.bronze.wifi_connections</td><td>19576833</td></tr><tr><td>amperity_marketplace.bronze.pos_customers</td><td>amperity_marketplace.bronze.e_commerce_customers</td><td>2192991</td></tr><tr><td>amperity_marketplace.bronze.pos_customers</td><td>amperity_marketplace.bronze.loyalty_members</td><td>1561157</td></tr><tr><td>amperity_marketplace.bronze.pos_customers</td><td>amperity_marketplace.bronze.web_visitors</td><td>361736</td></tr><tr><td>amperity_marketplace.bronze.pos_customers</td><td>amperity_marketplace.bronze.wifi_connections</td><td>2283288</td></tr><tr><td>amperity_marketplace.bronze.web_visitors</td><td>amperity_marketplace.bronze.e_commerce_customers</td><td>418183</td></tr><tr><td>amperity_marketplace.bronze.web_visitors</td><td>amperity_marketplace.bronze.loyalty_members</td><td>322036</td></tr><tr><td>amperity_marketplace.bronze.web_visitors</td><td>amperity_marketplace.bronze.pos_customers</td><td>361736</td></tr><tr><td>amperity_marketplace.bronze.web_visitors</td><td>amperity_marketplace.bronze.wifi_connections</td><td>6628308</td></tr><tr><td>amperity_marketplace.bronze.wifi_connections</td><td>amperity_marketplace.bronze.e_commerce_customers</td><td>22599825</td></tr><tr><td>amperity_marketplace.bronze.wifi_connections</td><td>amperity_marketplace.bronze.loyalty_members</td><td>19576833</td></tr><tr><td>amperity_marketplace.bronze.wifi_connections</td><td>amperity_marketplace.bronze.pos_customers</td><td>2283288</td></tr><tr><td>amperity_marketplace.bronze.wifi_connections</td><td>amperity_marketplace.bronze.web_visitors</td><td>6628308</td></tr></tbody></table></div>"
      ]
     },
     "metadata": {
      "application/vnd.databricks.v1+output": {
       "addedWidgets": {},
       "aggData": [],
       "aggError": "",
       "aggOverflow": false,
       "aggSchema": [],
       "aggSeriesLimitReached": false,
       "aggType": "",
       "arguments": {},
       "columnCustomDisplayInfos": {},
       "data": [
        [
         "amperity_marketplace.bronze.e_commerce_customers",
         "amperity_marketplace.bronze.loyalty_members",
         19593140
        ],
        [
         "amperity_marketplace.bronze.e_commerce_customers",
         "amperity_marketplace.bronze.pos_customers",
         2192991
        ],
        [
         "amperity_marketplace.bronze.e_commerce_customers",
         "amperity_marketplace.bronze.web_visitors",
         418183
        ],
        [
         "amperity_marketplace.bronze.e_commerce_customers",
         "amperity_marketplace.bronze.wifi_connections",
         22599825
        ],
        [
         "amperity_marketplace.bronze.loyalty_members",
         "amperity_marketplace.bronze.e_commerce_customers",
         19593140
        ],
        [
         "amperity_marketplace.bronze.loyalty_members",
         "amperity_marketplace.bronze.pos_customers",
         1561157
        ],
        [
         "amperity_marketplace.bronze.loyalty_members",
         "amperity_marketplace.bronze.web_visitors",
         322036
        ],
        [
         "amperity_marketplace.bronze.loyalty_members",
         "amperity_marketplace.bronze.wifi_connections",
         19576833
        ],
        [
         "amperity_marketplace.bronze.pos_customers",
         "amperity_marketplace.bronze.e_commerce_customers",
         2192991
        ],
        [
         "amperity_marketplace.bronze.pos_customers",
         "amperity_marketplace.bronze.loyalty_members",
         1561157
        ],
        [
         "amperity_marketplace.bronze.pos_customers",
         "amperity_marketplace.bronze.web_visitors",
         361736
        ],
        [
         "amperity_marketplace.bronze.pos_customers",
         "amperity_marketplace.bronze.wifi_connections",
         2283288
        ],
        [
         "amperity_marketplace.bronze.web_visitors",
         "amperity_marketplace.bronze.e_commerce_customers",
         418183
        ],
        [
         "amperity_marketplace.bronze.web_visitors",
         "amperity_marketplace.bronze.loyalty_members",
         322036
        ],
        [
         "amperity_marketplace.bronze.web_visitors",
         "amperity_marketplace.bronze.pos_customers",
         361736
        ],
        [
         "amperity_marketplace.bronze.web_visitors",
         "amperity_marketplace.bronze.wifi_connections",
         6628308
        ],
        [
         "amperity_marketplace.bronze.wifi_connections",
         "amperity_marketplace.bronze.e_commerce_customers",
         22599825
        ],
        [
         "amperity_marketplace.bronze.wifi_connections",
         "amperity_marketplace.bronze.loyalty_members",
         19576833
        ],
        [
         "amperity_marketplace.bronze.wifi_connections",
         "amperity_marketplace.bronze.pos_customers",
         2283288
        ],
        [
         "amperity_marketplace.bronze.wifi_connections",
         "amperity_marketplace.bronze.web_visitors",
         6628308
        ]
       ],
       "datasetInfos": [
        {
         "name": "_sqldf",
         "schema": {
          "fields": [
           {
            "metadata": {},
            "name": "source_1",
            "nullable": true,
            "type": "string"
           },
           {
            "metadata": {},
            "name": "source_2",
            "nullable": true,
            "type": "string"
           },
           {
            "metadata": {},
            "name": "cnt",
            "nullable": false,
            "type": "long"
           }
          ],
          "type": "struct"
         },
         "tableIdentifier": null,
         "typeStr": "pyspark.sql.connect.dataframe.DataFrame"
        }
       ],
       "dbfsResultPath": null,
       "isJsonSchema": true,
       "metadata": {
        "createTempViewForImplicitDf": true,
        "dataframeName": "_sqldf",
        "executionCount": 23
       },
       "overflow": false,
       "plotOptions": {
        "customPlotOptions": {},
        "displayType": "table",
        "pivotAggregation": null,
        "pivotColumns": null,
        "xColumns": null,
        "yColumns": null
       },
       "removedWidgets": [],
       "schema": [
        {
         "metadata": "{}",
         "name": "source_1",
         "type": "\"string\""
        },
        {
         "metadata": "{}",
         "name": "source_2",
         "type": "\"string\""
        },
        {
         "metadata": "{}",
         "name": "cnt",
         "type": "\"long\""
        }
       ],
       "type": "table"
      }
     },
     "output_type": "display_data"
    }
   ],
   "source": [
    "%sql\n",
    "-- Write a pivot so when we have app, how often does it have ticketing.\n",
    "\n",
    "-- First make a CTE of all the permutations of joins.\n",
    "With amp_and_source_cte as (\n",
    "  Select Amperity_ID, source\n",
    "  From unified_coalesced_sql\n",
    "  Group by 1, 2\n",
    ")\n",
    "-- Join the aggregate to itself to get all the permuations of the ways sources join by cluster.\n",
    ", cte_2 as (\n",
    "  Select s1.Amperity_ID, s1.source as source_1, s2.source as source_2\n",
    "  FROM amp_and_source_cte as s1\n",
    "  Full Join amp_and_source_cte as s2\n",
    "  on s1.Amperity_ID = s2.Amperity_ID\n",
    "  --and s1.source <= s2.source\n",
    ")\n",
    "Select source_1, source_2, count(*)  as cnt\n",
    "FROM cte_2\n",
    "Where 1=1\n",
    "  And source_1 <> source_2\n",
    "Group by 1, 2\n",
    "order by 1, 2\n"
   ]
  }
 ],
 "metadata": {
  "application/vnd.databricks.v1+notebook": {
   "computePreferences": null,
   "dashboards": [],
   "environmentMetadata": {
    "base_environment": "",
    "environment_version": "2"
   },
   "inputWidgetPreferences": null,
   "language": "python",
   "notebookMetadata": {
    "mostRecentlyExecutedCommandWithImplicitDF": {
     "commandId": 8223242253801814,
     "dataframes": [
      "_sqldf"
     ]
    },
    "pythonIndentUnit": 4
   },
   "notebookName": "Stitch Report Template",
   "widgets": {}
  },
  "language_info": {
   "name": "python"
  }
 },
 "nbformat": 4,
 "nbformat_minor": 0
}